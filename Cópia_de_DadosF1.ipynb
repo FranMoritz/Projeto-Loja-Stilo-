{
  "nbformat": 4,
  "nbformat_minor": 0,
  "metadata": {
    "colab": {
      "provenance": [],
      "authorship_tag": "ABX9TyPvISnEb2oZS/ovwZDla6Tr",
      "include_colab_link": true
    },
    "kernelspec": {
      "name": "python3",
      "display_name": "Python 3"
    },
    "language_info": {
      "name": "python"
    }
  },
  "cells": [
    {
      "cell_type": "markdown",
      "metadata": {
        "id": "view-in-github",
        "colab_type": "text"
      },
      "source": [
        "<a href=\"https://colab.research.google.com/github/FranMoritz/Projeto-Loja-Stilo-/blob/main/C%C3%B3pia_de_DadosF1.ipynb\" target=\"_parent\"><img src=\"https://colab.research.google.com/assets/colab-badge.svg\" alt=\"Open In Colab\"/></a>"
      ]
    },
    {
      "cell_type": "code",
      "execution_count": null,
      "metadata": {
        "colab": {
          "base_uri": "https://localhost:8080/"
        },
        "id": "oilUuFTaWXNO",
        "outputId": "9910e4b1-35ba-4afd-be2a-617d8ede5cbf"
      },
      "outputs": [
        {
          "output_type": "stream",
          "name": "stdout",
          "text": [
            "Requirement already satisfied: pyspark in /usr/local/lib/python3.12/dist-packages (3.5.1)\n",
            "Requirement already satisfied: py4j==0.10.9.7 in /usr/local/lib/python3.12/dist-packages (from pyspark) (0.10.9.7)\n"
          ]
        }
      ],
      "source": [
        "!pip install pyspark"
      ]
    },
    {
      "cell_type": "code",
      "source": [
        "#Mapear nosso Google Drive\n",
        "\n",
        "from google.colab import drive\n",
        "drive.mount('/content/gdrive')"
      ],
      "metadata": {
        "colab": {
          "base_uri": "https://localhost:8080/"
        },
        "id": "f4gRYaeOWt2I",
        "outputId": "d1164dec-5e86-464f-d1bf-d94456ef4ca1"
      },
      "execution_count": null,
      "outputs": [
        {
          "output_type": "stream",
          "name": "stdout",
          "text": [
            "Mounted at /content/gdrive\n"
          ]
        }
      ]
    },
    {
      "cell_type": "code",
      "source": [
        "#Criando Sessão com o SparkSession\n",
        "from pyspark.sql import SparkSession\n",
        "\n",
        "spark = SparkSession \\\n",
        "    .builder \\\n",
        "    .appName(\"ETL Dados F1\") \\\n",
        "    .config('spark.ui.port', '4050') \\\n",
        "    .config(\"spark.sql.csv.encoding\", \"UTF-8\")\\ #aqui define o encoding para leitura do arquivo corretamente.\n",
        "    .getOrCreate()"
      ],
      "metadata": {
        "id": "4YKYGXGgW4IB"
      },
      "execution_count": null,
      "outputs": []
    },
    {
      "cell_type": "code",
      "source": [
        "#lendo o arquivo salvo no drive\n",
        "df_F1 = spark.read.csv(\"/content/gdrive/My Drive/projetof1/F1.csv\", header=True, sep=\",\")"
      ],
      "metadata": {
        "id": "3oVcP4IuaZhd"
      },
      "execution_count": null,
      "outputs": []
    },
    {
      "cell_type": "code",
      "source": [
        "df_F1.show(truncate=False)"
      ],
      "metadata": {
        "colab": {
          "base_uri": "https://localhost:8080/"
        },
        "id": "_eD6rPp4asb-",
        "outputId": "7f6074e6-5b48-4084-9472-db77d508d2a4"
      },
      "execution_count": null,
      "outputs": [
        {
          "output_type": "stream",
          "name": "stdout",
          "text": [
            "+----------+-------------+-------------+----------------------------+---------------------+------------------------+--------+-----+----+\n",
            "|date      |continent    |grand_prix   |circuit                     |winner_name          |team                    |time    |laps |year|\n",
            "+----------+-------------+-------------+----------------------------+---------------------+------------------------+--------+-----+----+\n",
            "|1950-05-13|Europe       |Great Britain|Silverstone Circuit         |Nino Farina          |Alfa Romeo              |02:13:23|70.0 |1950|\n",
            "|1950-05-21|Europe       |Monaco       |Circuit de Monaco           |Juan Manuel Fangio   |Alfa Romeo              |03:13:18|100.0|1950|\n",
            "|1950-05-30|North America|United States|Indianapolis Motor Speedway |Johnnie Parsons      |Kurtis Kraft Offenhauser|02:46:55|138.0|1950|\n",
            "|1950-06-04|Europe       |Switzerland  |Circuit Bremgarten          |Nino Farina          |Alfa Romeo              |02:02:53|42.0 |1950|\n",
            "|1950-06-18|Europe       |Belgium      |Circuit de Spa Francorchamps|Juan Manuel Fangio   |Alfa Romeo              |02:47:26|35.0 |1950|\n",
            "|1950-07-02|Europe       |France       |Circuit de Reims Gueux      |Juan Manuel Fangio   |Alfa Romeo              |02:57:52|64.0 |1950|\n",
            "|1950-09-03|Europe       |Italy        |Autodromo Nazionale di Monza|Nino Farina          |Alfa Romeo              |02:51:17|80.0 |1950|\n",
            "|1951-05-27|Europe       |Switzerland  |Circuit Bremgarten          |Juan Manuel Fangio   |Alfa Romeo              |02:07:53|42.0 |1951|\n",
            "|1951-05-30|North America|United States|Indianapolis Motor Speedway |Lee Wallard          |Kurtis Kraft Offenhauser|03:57:38|200.0|1951|\n",
            "|1951-06-17|Europe       |Belgium      |Circuit de Spa Francorchamps|Nino Farina          |Alfa Romeo              |02:45:46|36.0 |1951|\n",
            "|1951-07-01|Europe       |France       |Circuit de Reims Gueux      |Juan Manuel Fangio   |Alfa Romeo              |03:22:11|77.0 |1951|\n",
            "|1951-07-01|Europe       |France       |Circuit de Reims Gueux      |Luigi Fagioli        |Alfa Romeo              |03:22:11|77.0 |1951|\n",
            "|1951-07-14|Europe       |Great Britain|Silverstone Circuit         |Jose Froilan Gonzalez|Ferrari                 |02:42:18|90.0 |1951|\n",
            "|1951-07-29|Europe       |Germany      |Nürburgring                 |Alberto Ascari       |Ferrari                 |03:23:03|20.0 |1951|\n",
            "|1951-09-16|Europe       |Italy        |Autodromo Nazionale di Monza|Alberto Ascari       |Ferrari                 |02:42:39|80.0 |1951|\n",
            "|1951-10-28|Europe       |Spain        |Circuit de Pedralbes        |Juan Manuel Fangio   |Alfa Romeo              |02:46:54|70.0 |1951|\n",
            "|1952-05-18|Europe       |Switzerland  |Circuit Bremgarten          |Piero Taruffi        |Ferrari                 |03:01:46|62.0 |1952|\n",
            "|1952-05-30|North America|United States|Indianapolis Motor Speedway |Troy Ruttman         |Kuzma Offenhauser       |03:52:41|200.0|1952|\n",
            "|1952-06-22|Europe       |Belgium      |Circuit de Spa Francorchamps|Alberto Ascari       |Ferrari                 |03:03:46|36.0 |1952|\n",
            "|1952-07-06|Europe       |France       |Rouen Les Essarts           |Alberto Ascari       |Ferrari                 |03:00:00|77.0 |1952|\n",
            "+----------+-------------+-------------+----------------------------+---------------------+------------------------+--------+-----+----+\n",
            "only showing top 20 rows\n",
            "\n"
          ]
        }
      ]
    },
    {
      "cell_type": "markdown",
      "source": [
        "# **Aplicando Data Quality**"
      ],
      "metadata": {
        "id": "X7Fi-4S2dqFI"
      }
    },
    {
      "cell_type": "code",
      "source": [
        "#quantidade de linhas da tabela\n",
        "total_linhas = df_F1.count()\n",
        "print(f\"Total de linhas: {total_linhas}\")\n"
      ],
      "metadata": {
        "colab": {
          "base_uri": "https://localhost:8080/"
        },
        "id": "NyBVJY0WbBRT",
        "outputId": "9e10500f-3657-4e46-e36f-61cb4d412e27"
      },
      "execution_count": null,
      "outputs": [
        {
          "output_type": "stream",
          "name": "stdout",
          "text": [
            "Total de linhas: 1142\n"
          ]
        }
      ]
    },
    {
      "cell_type": "code",
      "source": [
        "#Verificando se tem nulos em todas as colunas\n",
        "from pyspark.sql.functions import count, when, col, isnan\n",
        "\n",
        "df_F1.select([\n",
        "    count(when(col(c).isNull() | (col(c)==\"\") | isnan(c), c)).alias(\"nulos\")\n",
        "    for c in df_F1.columns\n",
        "]).show()"
      ],
      "metadata": {
        "colab": {
          "base_uri": "https://localhost:8080/"
        },
        "id": "iuILdv-cjEsy",
        "outputId": "ef2e85a6-5fdc-4d29-8c9a-78fc7b0ba76b"
      },
      "execution_count": null,
      "outputs": [
        {
          "output_type": "stream",
          "name": "stdout",
          "text": [
            "+-----+-----+-----+-----+-----+-----+-----+-----+-----+\n",
            "|nulos|nulos|nulos|nulos|nulos|nulos|nulos|nulos|nulos|\n",
            "+-----+-----+-----+-----+-----+-----+-----+-----+-----+\n",
            "|    0|    0|    0|    0|    0|    0|    0|    0|    0|\n",
            "+-----+-----+-----+-----+-----+-----+-----+-----+-----+\n",
            "\n"
          ]
        }
      ]
    },
    {
      "cell_type": "code",
      "source": [
        "#Verificando deduplicidade\n",
        "duplicados = df_F1.count() - df_F1.dropDuplicates().count()\n",
        "print(f\"Linhas duplicadas: {duplicados}\")"
      ],
      "metadata": {
        "colab": {
          "base_uri": "https://localhost:8080/"
        },
        "id": "cQsFMwKpj1qQ",
        "outputId": "5f58e2e2-de96-4d71-d460-323a7cf9bc45"
      },
      "execution_count": null,
      "outputs": [
        {
          "output_type": "stream",
          "name": "stdout",
          "text": [
            "Linhas duplicadas: 0\n"
          ]
        }
      ]
    },
    {
      "cell_type": "code",
      "source": [
        "#Verificando valores distintos por coluna\n",
        "from pyspark.sql.functions import countDistinct, col\n",
        "\n",
        "for c in df_F1.columns:\n",
        "  print(f\"Coluna {c}: {df_F1.select(countDistinct(col(c))).collect()[0][0]} valores distintos\")"
      ],
      "metadata": {
        "colab": {
          "base_uri": "https://localhost:8080/"
        },
        "id": "8qGPSwGOkqaK",
        "outputId": "6640487e-3163-4abb-860b-cce1e786dfc1"
      },
      "execution_count": null,
      "outputs": [
        {
          "output_type": "stream",
          "name": "stdout",
          "text": [
            "Coluna date: 1139 valores distintos\n",
            "Coluna continent: 6 valores distintos\n",
            "Coluna grand_prix: 36 valores distintos\n",
            "Coluna circuit: 77 valores distintos\n",
            "Coluna winner_name: 115 valores distintos\n",
            "Coluna team: 65 valores distintos\n",
            "Coluna time: 964 valores distintos\n",
            "Coluna laps: 73 valores distintos\n",
            "Coluna year: 76 valores distintos\n"
          ]
        }
      ]
    },
    {
      "cell_type": "code",
      "source": [
        "#Estatísticas descritivas básicas\n",
        "df_F1.describe().show()"
      ],
      "metadata": {
        "colab": {
          "base_uri": "https://localhost:8080/"
        },
        "id": "1xHlC2DHmN0-",
        "outputId": "da1ac88d-70fd-48e6-ff90-f3081c413389"
      },
      "execution_count": null,
      "outputs": [
        {
          "output_type": "stream",
          "name": "stdout",
          "text": [
            "+-------+----------+-------------+-------------+----------------+------------------+----------+--------+------------------+------------------+\n",
            "|summary|      date|    continent|   grand_prix|         circuit|       winner_name|      team|    time|              laps|              year|\n",
            "+-------+----------+-------------+-------------+----------------+------------------+----------+--------+------------------+------------------+\n",
            "|  count|      1142|         1142|         1142|            1142|              1142|      1142|    1142|              1142|              1142|\n",
            "|   mean|      NULL|         NULL|         NULL|            NULL|              NULL|      NULL|    NULL| 64.61733800350262|1992.9991243432573|\n",
            "| stddev|      NULL|         NULL|         NULL|            NULL|              NULL|      NULL|    NULL|20.065138811800857| 20.85009723923465|\n",
            "|    min|1950-05-13|       Africa|    Abu Dhabi|            AVUS|       Alain Prost|Alfa Romeo|01:01:07|               1.0|              1950|\n",
            "|    max|2025-08-03|South America|United States|Zeltweg Airfield|Wolfgang von Trips| Wolf Ford|   55:30|              98.0|              2025|\n",
            "+-------+----------+-------------+-------------+----------------+------------------+----------+--------+------------------+------------------+\n",
            "\n"
          ]
        }
      ]
    },
    {
      "cell_type": "code",
      "source": [
        "#lendo o schema dos dados\n",
        "df_F1.printSchema"
      ],
      "metadata": {
        "colab": {
          "base_uri": "https://localhost:8080/"
        },
        "id": "_g7WgMiLcHu8",
        "outputId": "ad3b7e9c-56df-45cc-b4d6-9b9025f9c29b"
      },
      "execution_count": null,
      "outputs": [
        {
          "output_type": "stream",
          "name": "stdout",
          "text": [
            "root\n",
            " |-- date: string (nullable = true)\n",
            " |-- continent: string (nullable = true)\n",
            " |-- grand_prix: string (nullable = true)\n",
            " |-- circuit: string (nullable = true)\n",
            " |-- winner_name: string (nullable = true)\n",
            " |-- team: string (nullable = true)\n",
            " |-- time: string (nullable = true)\n",
            " |-- laps: string (nullable = true)\n",
            " |-- year: string (nullable = true)\n",
            "\n"
          ]
        }
      ]
    },
    {
      "cell_type": "code",
      "source": [
        "#Alterando os tipos das colunas\n",
        "df_F1 = df_F1.withColumn(\"date\" , col(\"date\").cast(\"date\"))\n",
        "df_F1 = df_F1.withColumn(\"laps\" , col(\"laps\").cast(\"int\"))\n",
        "df_F1 = df_F1.withColumn(\"year\" , col(\"year\").cast(\"int\"))"
      ],
      "metadata": {
        "collapsed": true,
        "id": "-Cw3Txajiipi"
      },
      "execution_count": null,
      "outputs": []
    },
    {
      "cell_type": "code",
      "source": [
        "df_F1.printSchema()"
      ],
      "metadata": {
        "colab": {
          "base_uri": "https://localhost:8080/"
        },
        "id": "5zAEFyOuolBC",
        "outputId": "13b50100-5b85-432a-ae96-16cde758ca54"
      },
      "execution_count": null,
      "outputs": [
        {
          "output_type": "stream",
          "name": "stdout",
          "text": [
            "root\n",
            " |-- date: date (nullable = true)\n",
            " |-- continent: string (nullable = true)\n",
            " |-- grand_prix: string (nullable = true)\n",
            " |-- circuit: string (nullable = true)\n",
            " |-- winner_name: string (nullable = true)\n",
            " |-- team: string (nullable = true)\n",
            " |-- time: string (nullable = true)\n",
            " |-- laps: integer (nullable = true)\n",
            " |-- year: integer (nullable = true)\n",
            "\n"
          ]
        }
      ]
    },
    {
      "cell_type": "markdown",
      "source": [
        "# **Agregações para Dashboards**"
      ],
      "metadata": {
        "id": "8U-HXuSFrW3o"
      }
    },
    {
      "cell_type": "code",
      "source": [
        "#Pilotos x Qtde Vitórias\n",
        "vitoria_piloto = df_F1.groupBy(col(\"winner_name\").alias(\"piloto\"))\\\n",
        ".agg(count(\"*\").alias(\"total_vitorias\"))\\\n",
        ".orderBy(col(\"total_vitorias\").desc())"
      ],
      "metadata": {
        "id": "llASAB7srdj0"
      },
      "execution_count": null,
      "outputs": []
    },
    {
      "cell_type": "code",
      "source": [
        "vitoria_piloto.show()"
      ],
      "metadata": {
        "colab": {
          "base_uri": "https://localhost:8080/"
        },
        "id": "4iop-HY9tY7q",
        "outputId": "e6566c43-f0d2-4ed7-aa58-8f0e0d6c32e6"
      },
      "execution_count": null,
      "outputs": [
        {
          "output_type": "stream",
          "name": "stdout",
          "text": [
            "+------------------+--------------+\n",
            "|            piloto|total_vitorias|\n",
            "+------------------+--------------+\n",
            "|    Lewis Hamilton|           105|\n",
            "|Michael Schumacher|            91|\n",
            "|    Max Verstappen|            65|\n",
            "|  Sebastian Vettel|            53|\n",
            "|       Alain Prost|            51|\n",
            "|      Ayrton Senna|            41|\n",
            "|   Fernando Alonso|            32|\n",
            "|     Nigel Mansell|            31|\n",
            "|    Jackie Stewart|            27|\n",
            "|         Jim Clark|            25|\n",
            "|        Niki Lauda|            25|\n",
            "|Juan Manuel Fangio|            24|\n",
            "|      Nico Rosberg|            23|\n",
            "|     Nelson Piquet|            23|\n",
            "|        Damon Hill|            22|\n",
            "|    Kimi Raikkonen|            21|\n",
            "|     Mika Hakkinen|            20|\n",
            "|     Stirling Moss|            16|\n",
            "|     Jenson Button|            15|\n",
            "|Emerson Fittipaldi|            14|\n",
            "+------------------+--------------+\n",
            "only showing top 20 rows\n",
            "\n"
          ]
        }
      ]
    },
    {
      "cell_type": "code",
      "source": [
        "#salvando tabala no drive\n",
        "vitoria_piloto.write.csv(\"/content/gdrive/My Drive/projetof1/vitoria_piloto\")"
      ],
      "metadata": {
        "id": "snhMOsXA_HRL"
      },
      "execution_count": null,
      "outputs": []
    },
    {
      "cell_type": "code",
      "source": [
        "# Vitória por pilto em cada ano\n",
        "vitorias_por_ano = df_F1.groupBy(\"year\", \"Winner_name\")\\\n",
        ".agg(count(\"*\").alias(\"Vitoria_ano\"))\\\n",
        ".orderBy(\"Vitoria_ano\", \"year\", ascending=False)"
      ],
      "metadata": {
        "id": "fp-u5La3vkv-"
      },
      "execution_count": null,
      "outputs": []
    },
    {
      "cell_type": "code",
      "source": [
        "vitorias_por_ano.show()"
      ],
      "metadata": {
        "colab": {
          "base_uri": "https://localhost:8080/"
        },
        "id": "JgvEuzVQwWzd",
        "outputId": "f9c0d9d2-fb35-4d30-f822-a12d55d9388b"
      },
      "execution_count": null,
      "outputs": [
        {
          "output_type": "stream",
          "name": "stdout",
          "text": [
            "+----+------------------+-----------+\n",
            "|year|       Winner_name|Vitoria_ano|\n",
            "+----+------------------+-----------+\n",
            "|2023|    Max Verstappen|         19|\n",
            "|2022|    Max Verstappen|         15|\n",
            "|2013|  Sebastian Vettel|         13|\n",
            "|2004|Michael Schumacher|         13|\n",
            "|2020|    Lewis Hamilton|         11|\n",
            "|2019|    Lewis Hamilton|         11|\n",
            "|2018|    Lewis Hamilton|         11|\n",
            "|2014|    Lewis Hamilton|         11|\n",
            "|2011|  Sebastian Vettel|         11|\n",
            "|2002|Michael Schumacher|         11|\n",
            "|2021|    Max Verstappen|         10|\n",
            "|2016|    Lewis Hamilton|         10|\n",
            "|2015|    Lewis Hamilton|         10|\n",
            "|2024|    Max Verstappen|          9|\n",
            "|2017|    Lewis Hamilton|          9|\n",
            "|2016|      Nico Rosberg|          9|\n",
            "|2001|Michael Schumacher|          9|\n",
            "|2000|Michael Schumacher|          9|\n",
            "|1995|Michael Schumacher|          9|\n",
            "|1992|     Nigel Mansell|          9|\n",
            "+----+------------------+-----------+\n",
            "only showing top 20 rows\n",
            "\n"
          ]
        }
      ]
    },
    {
      "cell_type": "code",
      "source": [
        "vitorias_por_ano.write.csv(\"/content/gdrive/My Drive/projetof1/vitorias_por_ano\")"
      ],
      "metadata": {
        "id": "J3G5wRP__qTE"
      },
      "execution_count": null,
      "outputs": []
    },
    {
      "cell_type": "code",
      "source": [
        "#Vitorias por equipe\n",
        "vitoria_equipe = df_F1.groupBy(col(\"team\").alias(\"equipe\"))\\\n",
        ".agg(count(\"*\").alias(\"total_vitorias\"))\\\n",
        ".orderBy(col(\"total_vitorias\").desc())\n"
      ],
      "metadata": {
        "id": "aIF9530IyTyF"
      },
      "execution_count": null,
      "outputs": []
    },
    {
      "cell_type": "code",
      "source": [
        "vitoria_equipe.show()"
      ],
      "metadata": {
        "colab": {
          "base_uri": "https://localhost:8080/"
        },
        "id": "ICxI08HXz43Y",
        "outputId": "02989ed8-a591-4f19-a56a-b2909034479b"
      },
      "execution_count": null,
      "outputs": [
        {
          "output_type": "stream",
          "name": "stdout",
          "text": [
            "+--------------------+--------------+\n",
            "|              equipe|total_vitorias|\n",
            "+--------------------+--------------+\n",
            "|             Ferrari|           249|\n",
            "|            Mercedes|           121|\n",
            "|    McLaren Mercedes|            85|\n",
            "|    Williams Renault|            64|\n",
            "|          Lotus Ford|            47|\n",
            "|       McLaren Honda|            44|\n",
            "|        McLaren Ford|            35|\n",
            "|             Renault|            35|\n",
            "|Red Bull Racing R...|            35|\n",
            "|Red Bull Racing H...|            30|\n",
            "|         McLaren TAG|            25|\n",
            "|        Lotus Climax|            24|\n",
            "|      Williams Honda|            23|\n",
            "|        Tyrrell Ford|            23|\n",
            "|       Williams Ford|            17|\n",
            "|                 BRM|            17|\n",
            "|Red Bull Racing RBPT|            17|\n",
            "|Red Bull Racing H...|            16|\n",
            "|        Brabham Ford|            15|\n",
            "|         RBR Renault|            15|\n",
            "+--------------------+--------------+\n",
            "only showing top 20 rows\n",
            "\n"
          ]
        }
      ]
    },
    {
      "cell_type": "code",
      "source": [
        "vitoria_equipe.write.csv(\"/content/gdrive/My Drive/projetof1/vitoria_equipe\")"
      ],
      "metadata": {
        "id": "siDn4fQ0_xcq"
      },
      "execution_count": null,
      "outputs": []
    },
    {
      "cell_type": "code",
      "source": [
        "#Vitorias por equipe ano\n",
        "vitorias_por_ano_equipe = df_F1.groupBy(\"year\", \"team\")\\\n",
        ".agg(count(\"*\").alias(\"Vitoria_ano\"))\\\n",
        ".orderBy(\"Vitoria_ano\", \"team\", ascending=False)"
      ],
      "metadata": {
        "id": "vP21H4Vy0C31"
      },
      "execution_count": null,
      "outputs": []
    },
    {
      "cell_type": "code",
      "source": [
        "vitorias_por_ano_equipe.show()"
      ],
      "metadata": {
        "colab": {
          "base_uri": "https://localhost:8080/"
        },
        "id": "dyVM1NzJ0KO4",
        "outputId": "a7ff19de-6056-4c2a-f015-b0ace16f3c9d"
      },
      "execution_count": null,
      "outputs": [
        {
          "output_type": "stream",
          "name": "stdout",
          "text": [
            "+----+--------------------+-----------+\n",
            "|year|                team|Vitoria_ano|\n",
            "+----+--------------------+-----------+\n",
            "|2023|Red Bull Racing H...|         21|\n",
            "|2016|            Mercedes|         19|\n",
            "|2022|Red Bull Racing RBPT|         17|\n",
            "|2014|            Mercedes|         16|\n",
            "|2015|            Mercedes|         16|\n",
            "|2019|            Mercedes|         15|\n",
            "|1988|       McLaren Honda|         15|\n",
            "|2004|             Ferrari|         15|\n",
            "|2002|             Ferrari|         15|\n",
            "|2013|Red Bull Racing R...|         13|\n",
            "|2020|            Mercedes|         13|\n",
            "|1996|    Williams Renault|         12|\n",
            "|2011|Red Bull Racing R...|         12|\n",
            "|2017|            Mercedes|         12|\n",
            "|1984|         McLaren TAG|         12|\n",
            "|2021|Red Bull Racing H...|         11|\n",
            "|2018|            Mercedes|         11|\n",
            "|2025|             McLaren|         11|\n",
            "|1995|    Benetton Renault|         11|\n",
            "|1992|    Williams Renault|         10|\n",
            "+----+--------------------+-----------+\n",
            "only showing top 20 rows\n",
            "\n"
          ]
        }
      ]
    },
    {
      "cell_type": "code",
      "source": [
        "vitorias_por_ano_equipe.write.csv(\"/content/gdrive/My Drive/projetof1/vitorias_por_ano_equipe\")"
      ],
      "metadata": {
        "id": "wggtTpPb_4gg"
      },
      "execution_count": null,
      "outputs": []
    },
    {
      "cell_type": "code",
      "source": [
        "#Pilotos com maior vitória por circuito\n",
        "vitorias_circuito = df_F1.groupBy(\"circuit\", \"Winner_name\",\"team\")\\\n",
        ".agg(count(\"*\").alias(\"Vitoria_no_circuito\"))\\\n",
        ".orderBy(\"Vitoria_no_circuito\", ascending=False)"
      ],
      "metadata": {
        "id": "Bt6A0Evx0wIh"
      },
      "execution_count": null,
      "outputs": []
    },
    {
      "cell_type": "code",
      "source": [
        "vitorias_circuito.show(truncate=False)"
      ],
      "metadata": {
        "colab": {
          "base_uri": "https://localhost:8080/"
        },
        "id": "CGiJ2Yw11HSq",
        "outputId": "72ecc164-2c06-4558-c8b2-d8f7de42f497"
      },
      "execution_count": null,
      "outputs": [
        {
          "output_type": "stream",
          "name": "stdout",
          "text": [
            "+----------------------------------+------------------+-------------+-------------------+\n",
            "|circuit                           |Winner_name       |team         |Vitoria_no_circuito|\n",
            "+----------------------------------+------------------+-------------+-------------------+\n",
            "|Silverstone Circuit               |Lewis Hamilton    |Mercedes     |8                  |\n",
            "|Circuit de Nevers Magny Cours     |Michael Schumacher|Ferrari      |6                  |\n",
            "|Imola                             |Michael Schumacher|Ferrari      |6                  |\n",
            "|Circuit Gilles Villeneuve         |Michael Schumacher|Ferrari      |6                  |\n",
            "|Circuit de Barcelona Catalunya    |Lewis Hamilton    |Mercedes     |6                  |\n",
            "|Indianapolis Motor Speedway       |Michael Schumacher|Ferrari      |5                  |\n",
            "|Sochi Autodrom                    |Lewis Hamilton    |Mercedes     |5                  |\n",
            "|Autodromo Nazionale di Monza      |Michael Schumacher|Ferrari      |5                  |\n",
            "|Suzuka International Racing Course|Michael Schumacher|Ferrari      |5                  |\n",
            "|Bahrain International Circuit     |Lewis Hamilton    |Mercedes     |5                  |\n",
            "|Hungaroring                       |Lewis Hamilton    |Mercedes     |5                  |\n",
            "|Circuit de Barcelona Catalunya    |Michael Schumacher|Ferrari      |5                  |\n",
            "|Nürburgring                       |Michael Schumacher|Ferrari      |4                  |\n",
            "|Albert Park Circuit               |Michael Schumacher|Ferrari      |4                  |\n",
            "|Circuit de Spa Francorchamps      |Lewis Hamilton    |Mercedes     |4                  |\n",
            "|Circuit de Spa Francorchamps      |Ayrton Senna      |McLaren Honda|4                  |\n",
            "|Circuit de Monaco                 |Ayrton Senna      |McLaren Honda|4                  |\n",
            "|Circuit de Spa Francorchamps      |Michael Schumacher|Ferrari      |4                  |\n",
            "|Circuit Gilles Villeneuve         |Lewis Hamilton    |Mercedes     |4                  |\n",
            "|Shanghai International Circuit    |Lewis Hamilton    |Mercedes     |4                  |\n",
            "+----------------------------------+------------------+-------------+-------------------+\n",
            "only showing top 20 rows\n",
            "\n"
          ]
        }
      ]
    },
    {
      "cell_type": "code",
      "source": [
        "vitorias_circuito.write.csv(\"/content/gdrive/My Drive/projetof1/vitorias_circuito\")"
      ],
      "metadata": {
        "id": "xLIPPyYB_-rZ"
      },
      "execution_count": null,
      "outputs": []
    },
    {
      "cell_type": "markdown",
      "source": [
        "# **Book de Variáveis**"
      ],
      "metadata": {
        "id": "OLmCqtft42GS"
      }
    },
    {
      "cell_type": "code",
      "source": [
        "df_F1.orderBy(col (\"year\")).show()"
      ],
      "metadata": {
        "colab": {
          "base_uri": "https://localhost:8080/"
        },
        "id": "Okzoao0b44qb",
        "outputId": "5cc6d987-ea69-4752-ec1e-3a5741672041"
      },
      "execution_count": null,
      "outputs": [
        {
          "output_type": "stream",
          "name": "stdout",
          "text": [
            "+----------+-------------+-------------+--------------------+--------------------+--------------------+--------+----+----+\n",
            "|      date|    continent|   grand_prix|             circuit|         winner_name|                team|    time|laps|year|\n",
            "+----------+-------------+-------------+--------------------+--------------------+--------------------+--------+----+----+\n",
            "|1950-05-13|       Europe|Great Britain| Silverstone Circuit|         Nino Farina|          Alfa Romeo|02:13:23|  70|1950|\n",
            "|1950-05-21|       Europe|       Monaco|   Circuit de Monaco|  Juan Manuel Fangio|          Alfa Romeo|03:13:18| 100|1950|\n",
            "|1950-05-30|North America|United States|Indianapolis Moto...|     Johnnie Parsons|Kurtis Kraft Offe...|02:46:55| 138|1950|\n",
            "|1950-06-04|       Europe|  Switzerland|  Circuit Bremgarten|         Nino Farina|          Alfa Romeo|02:02:53|  42|1950|\n",
            "|1950-06-18|       Europe|      Belgium|Circuit de Spa Fr...|  Juan Manuel Fangio|          Alfa Romeo|02:47:26|  35|1950|\n",
            "|1950-07-02|       Europe|       France|Circuit de Reims ...|  Juan Manuel Fangio|          Alfa Romeo|02:57:52|  64|1950|\n",
            "|1950-09-03|       Europe|        Italy|Autodromo Naziona...|         Nino Farina|          Alfa Romeo|02:51:17|  80|1950|\n",
            "|1951-05-27|       Europe|  Switzerland|  Circuit Bremgarten|  Juan Manuel Fangio|          Alfa Romeo|02:07:53|  42|1951|\n",
            "|1951-05-30|North America|United States|Indianapolis Moto...|         Lee Wallard|Kurtis Kraft Offe...|03:57:38| 200|1951|\n",
            "|1951-06-17|       Europe|      Belgium|Circuit de Spa Fr...|         Nino Farina|          Alfa Romeo|02:45:46|  36|1951|\n",
            "|1951-07-01|       Europe|       France|Circuit de Reims ...|  Juan Manuel Fangio|          Alfa Romeo|03:22:11|  77|1951|\n",
            "|1951-07-01|       Europe|       France|Circuit de Reims ...|       Luigi Fagioli|          Alfa Romeo|03:22:11|  77|1951|\n",
            "|1951-07-14|       Europe|Great Britain| Silverstone Circuit|Jose Froilan Gonz...|             Ferrari|02:42:18|  90|1951|\n",
            "|1951-07-29|       Europe|      Germany|         Nürburgring|      Alberto Ascari|             Ferrari|03:23:03|  20|1951|\n",
            "|1951-09-16|       Europe|        Italy|Autodromo Naziona...|      Alberto Ascari|             Ferrari|02:42:39|  80|1951|\n",
            "|1951-10-28|       Europe|        Spain|Circuit de Pedralbes|  Juan Manuel Fangio|          Alfa Romeo|02:46:54|  70|1951|\n",
            "|1952-05-18|       Europe|  Switzerland|  Circuit Bremgarten|       Piero Taruffi|             Ferrari|03:01:46|  62|1952|\n",
            "|1952-05-30|North America|United States|Indianapolis Moto...|        Troy Ruttman|   Kuzma Offenhauser|03:52:41| 200|1952|\n",
            "|1952-06-22|       Europe|      Belgium|Circuit de Spa Fr...|      Alberto Ascari|             Ferrari|03:03:46|  36|1952|\n",
            "|1952-07-06|       Europe|       France|   Rouen Les Essarts|      Alberto Ascari|             Ferrari|03:00:00|  77|1952|\n",
            "+----------+-------------+-------------+--------------------+--------------------+--------------------+--------+----+----+\n",
            "only showing top 20 rows\n",
            "\n"
          ]
        }
      ]
    },
    {
      "cell_type": "code",
      "source": [
        "from pyspark.sql.functions import count"
      ],
      "metadata": {
        "id": "S5xndIYh6WXx"
      },
      "execution_count": null,
      "outputs": []
    },
    {
      "cell_type": "code",
      "source": [
        "#circuito quantidade de vitoria por piloto\n",
        "feature_store = df_F1.groupBy(\"circuit\")\\\n",
        ".pivot(\"winner_name\")\\\n",
        ".agg(count(\"*\"))\\\n",
        ".fillna(0) #troca o null por 0\n",
        "\n"
      ],
      "metadata": {
        "id": "wWl3RZtc6QyX"
      },
      "execution_count": null,
      "outputs": []
    },
    {
      "cell_type": "code",
      "source": [
        "feature_store.show(truncate=False)"
      ],
      "metadata": {
        "colab": {
          "base_uri": "https://localhost:8080/"
        },
        "id": "eaSFq4zG60Ex",
        "outputId": "b8d16081-76e8-45d0-d3cd-1be9554ca10c"
      },
      "execution_count": null,
      "outputs": [
        {
          "output_type": "stream",
          "name": "stdout",
          "text": [
            "+-----------------------------+-----------+----------+--------------+------------------+------------+-------------+------------+-------------+-----------+----------------+------------+---------------+--------------+----------+----------------+----------+---------------+-----------+-------------+------------+---------------+------------------+------------+------------+---------------+---------------+--------------+--------------+------------------+--------------------+-----------------+-----------+--------------+-----------------+---------------------+-------------+--------------+----------+------------+---------------+------------------+----------+------------+--------------------+---------------------+----------+-------------+-----------+---------+------------+-----------+------------+--------------+---------------+--------------+------------+-----------+---------------------+----------+----------+------------------+------------------+------------+--------------+------------+-----------+--------------+---------------+-------------------+-------------+-----------+--------------+-----------+-------------------+--------------+------------------+----------------+-------------+-------------+-------------+------------+-------------+----------+-----------+-------------+-------------+----------------+-----------------+--------------+------------+---------------+------------+------------+-------------+---------+-------------+------------+---------------+-----------+----------------+--------------+-------------+-----------+---------------+------------------+---------+----------------+------------+-------------+---------------+-----------+------------+---------------+------------------+------------------+\n",
            "|circuit                      |Alain Prost|Alan Jones|Alberto Ascari|Alessandro Nannini|Ayrton Senna|Bill Vukovich|Bob Sweikert|Bruce McLaren|Carlos Pace|Carlos Reutemann|Carlos Sainz|Charles Leclerc|Clay Regazzoni|Damon Hill|Daniel Ricciardo|Dan Gurney|David Coulthard|Denny Hulme|Didier Pironi|Eddie Irvine|Elio de Angelis|Emerson Fittipaldi|Esteban Ocon|Felipe Massa|Fernando Alonso|Francois Cevert|George Russell|Gerhard Berger|Giancarlo Baghetti|Giancarlo Fisichella|Gilles Villeneuve|Graham Hill|Gunnar Nilsson|Heikki Kovalainen|Heinz-Harald Frentzen|Innes Ireland|Jackie Stewart|Jacky Ickx|Jack Brabham|Jacques Laffite|Jacques Villeneuve|James Hunt|Jarno Trulli|Jean-Pierre Beltoise|Jean-Pierre Jabouille|Jean Alesi|Jenson Button|Jimmy Bryan|Jim Clark|Jim Rathmann|Jochen Mass|Jochen Rindt|Jody Scheckter|Johnnie Parsons|Johnny Herbert|John Surtees|John Watson|Jose Froilan Gonzalez|Jo Bonnier|Jo Siffert|Juan Manuel Fangio|Juan Pablo Montoya|Keke Rosberg|Kimi Raikkonen|Lando Norris|Lee Wallard|Lewis Hamilton|Lorenzo Bandini|Ludovico Scarfiotti|Luigi Fagioli|Luigi Musso|Mario Andretti|Mark Webber|Maurice Trintignant|Max Verstappen|Michael Schumacher|Michele Alboreto|Mika Hakkinen|Mike Hawthorn|Nelson Piquet|Nico Rosberg|Nigel Mansell|Niki Lauda|Nino Farina|Olivier Panis|Oscar Piastri|Pastor Maldonado|Patrick Depailler|Patrick Tambay|Pat Flaherty|Pedro Rodriguez|Peter Gethin|Peter Revson|Peter Collins|Phil Hill|Piero Taruffi|Pierre Gasly|Ralf Schumacher|Rene Arnoux|Riccardo Patrese|Richie Ginther|Robert Kubica|Rodger Ward|Ronnie Peterson|Rubens Barrichello|Sam Hanks|Sebastian Vettel|Sergio Perez|Stirling Moss|Thierry Boutsen|Tony Brooks|Troy Ruttman|Valtteri Bottas|Vittorio Brambilla|Wolfgang von Trips|\n",
            "+-----------------------------+-----------+----------+--------------+------------------+------------+-------------+------------+-------------+-----------+----------------+------------+---------------+--------------+----------+----------------+----------+---------------+-----------+-------------+------------+---------------+------------------+------------+------------+---------------+---------------+--------------+--------------+------------------+--------------------+-----------------+-----------+--------------+-----------------+---------------------+-------------+--------------+----------+------------+---------------+------------------+----------+------------+--------------------+---------------------+----------+-------------+-----------+---------+------------+-----------+------------+--------------+---------------+--------------+------------+-----------+---------------------+----------+----------+------------------+------------------+------------+--------------+------------+-----------+--------------+---------------+-------------------+-------------+-----------+--------------+-----------+-------------------+--------------+------------------+----------------+-------------+-------------+-------------+------------+-------------+----------+-----------+-------------+-------------+----------------+-----------------+--------------+------------+---------------+------------+------------+-------------+---------+-------------+------------+---------------+-----------+----------------+--------------+-------------+-----------+---------------+------------------+---------+----------------+------------+-------------+---------------+-----------+------------+---------------+------------------+------------------+\n",
            "|Bugatti Au Mans              |0          |0         |0             |0                 |0           |0            |0           |0            |0          |0               |0           |0              |0             |0         |0               |0         |0              |0          |0            |0           |0              |0                 |0           |0           |0              |0              |0             |0             |0                 |0                   |0                |0          |0             |0                |0                    |0            |0             |0         |1           |0              |0                 |0         |0           |0                   |0                    |0         |0            |0          |0        |0           |0          |0           |0             |0              |0             |0           |0          |0                    |0         |0         |0                 |0                 |0           |0             |0           |0          |0             |0              |0                  |0            |0          |0             |0          |0                  |0             |0                 |0               |0            |0            |0            |0           |0            |0         |0          |0            |0            |0               |0                |0             |0           |0              |0           |0           |0            |0        |0            |0           |0              |0          |0               |0             |0            |0          |0              |0                 |0        |0               |0           |0            |0              |0          |0           |0              |0                 |0                 |\n",
            "|Lusail International Circuit |0          |0         |0             |0                 |0           |0            |0           |0            |0          |0               |0           |0              |0             |0         |0               |0         |0              |0          |0            |0           |0              |0                 |0           |0           |0              |0              |0             |0             |0                 |0                   |0                |0          |0             |0                |0                    |0            |0             |0         |0           |0              |0                 |0         |0           |0                   |0                    |0         |0            |0          |0        |0           |0          |0           |0             |0              |0             |0           |0          |0                    |0         |0         |0                 |0                 |0           |0             |0           |0          |1             |0              |0                  |0            |0          |0             |0          |0                  |2             |0                 |0               |0            |0            |0            |0           |0            |0         |0          |0            |0            |0               |0                |0             |0           |0              |0           |0           |0            |0        |0            |0           |0              |0          |0               |0             |0            |0          |0              |0                 |0        |0               |0           |0            |0              |0          |0           |0              |0                 |0                 |\n",
            "|Autódromo Oscar y Juan Gálvez|0          |1         |1             |0                 |0           |0            |0           |1            |0          |0               |0           |0              |0             |2         |0               |0         |0              |1          |0            |0           |0              |2                 |0           |0           |0              |0              |0             |0             |0                 |0                   |0                |0          |0             |0                |0                    |0            |1             |0         |0           |1              |1                 |0         |0           |0                   |0                    |0         |0            |0          |0        |0           |0          |0           |1             |0              |0             |0           |0          |0                    |0         |0         |4                 |0                 |0           |0             |0           |0          |0             |0              |0                  |0            |1          |1             |0          |0                  |0             |1                 |0               |0            |0            |1            |0           |0            |0         |0          |0            |0            |0               |0                |0             |0           |0              |0           |0           |0            |0        |0            |0           |0              |0          |0               |0             |0            |0          |0              |0                 |0        |0               |0           |1            |0              |0          |0           |0              |0                 |0                 |\n",
            "|Scandinavian Raceway         |0          |0         |0             |0                 |0           |0            |0           |0            |0          |0               |0           |0              |0             |0         |0               |0         |0              |1          |0            |0           |0              |0                 |0           |0           |0              |0              |0             |0             |0                 |0                   |0                |0          |0             |0                |0                    |0            |0             |0         |0           |1              |0                 |0         |0           |0                   |0                    |0         |0            |0          |0        |0           |0          |0           |2             |0              |0             |0           |0          |0                    |0         |0         |0                 |0                 |0           |0             |0           |0          |0             |0              |0                  |0            |0          |0             |0          |0                  |0             |0                 |0               |0            |0            |0            |0           |0            |2         |0          |0            |0            |0               |0                |0             |0           |0              |0           |0           |0            |0        |0            |0           |0              |0          |0               |0             |0            |0          |0              |0                 |0        |0               |0           |0            |0              |0          |0           |0              |0                 |0                 |\n",
            "|Istanbul Park                |0          |0         |0             |0                 |0           |0            |0           |0            |0          |0               |0           |0              |0             |0         |0               |0         |0              |0          |0            |0           |0              |0                 |0           |3           |0              |0              |0             |0             |0                 |0                   |0                |0          |0             |0                |0                    |0            |0             |0         |0           |0              |0                 |0         |0           |0                   |0                    |0         |1            |0          |0        |0           |0          |0           |0             |0              |0             |0           |0          |0                    |0         |0         |0                 |0                 |0           |1             |0           |0          |2             |0              |0                  |0            |0          |0             |0          |0                  |0             |0                 |0               |0            |0            |0            |0           |0            |0         |0          |0            |0            |0               |0                |0             |0           |0              |0           |0           |0            |0        |0            |0           |0              |0          |0               |0             |0            |0          |0              |0                 |0        |1               |0           |0            |0              |0          |0           |1              |0                 |0                 |\n",
            "|Circuit de Nevers Magny Cours|1          |0         |0             |0                 |0           |0            |0           |0            |0          |0               |0           |0              |0             |1         |0               |0         |1              |0          |0            |0           |0              |0                 |0           |1           |1              |0              |0             |0             |0                 |0                   |0                |0          |0             |0                |1                    |0            |0             |0         |0           |0              |0                 |0         |0           |0                   |0                    |0         |0            |0          |0        |0           |0          |0           |0             |0              |0             |0           |0          |0                    |0         |0         |0                 |0                 |0           |1             |0           |0          |0             |0              |0                  |0            |0          |0             |0          |0                  |0             |8                 |0               |0            |0            |0            |0           |2            |0         |0          |0            |0            |0               |0                |0             |0           |0              |0           |0           |0            |0        |0            |0           |1              |0          |0               |0             |0            |0          |0              |0                 |0        |0               |0           |0            |0              |0          |0           |0              |0                 |0                 |\n",
            "|Circuito da Boavista         |0          |0         |0             |0                 |0           |0            |0           |0            |0          |0               |0           |0              |0             |0         |0               |0         |0              |0          |0            |0           |0              |0                 |0           |0           |0              |0              |0             |0             |0                 |0                   |0                |0          |0             |0                |0                    |0            |0             |0         |1           |0              |0                 |0         |0           |0                   |0                    |0         |0            |0          |0        |0           |0          |0           |0             |0              |0             |0           |0          |0                    |0         |0         |0                 |0                 |0           |0             |0           |0          |0             |0              |0                  |0            |0          |0             |0          |0                  |0             |0                 |0               |0            |0            |0            |0           |0            |0         |0          |0            |0            |0               |0                |0             |0           |0              |0           |0           |0            |0        |0            |0           |0              |0          |0               |0             |0            |0          |0              |0                 |0        |0               |0           |1            |0              |0          |0           |0              |0                 |0                 |\n",
            "|Circuit Gilles Villeneuve    |1          |2         |0             |0                 |2           |0            |0           |0            |0          |0               |0           |0              |0             |1         |1               |0         |0              |0          |0            |0           |0              |0                 |0           |0           |1              |0              |1             |1             |0                 |0                   |1                |0          |0             |0                |0                    |0            |0             |0         |0           |1              |0                 |0         |0           |0                   |0                    |1         |1            |0          |0        |0           |0          |0           |0             |0              |0             |0           |0          |0                    |0         |0         |0                 |0                 |0           |1             |0           |0          |7             |0              |0                  |0            |0          |0             |0          |0                  |3             |7                 |1               |1            |0            |3            |0           |1            |0         |0          |0            |0            |0               |0                |0             |0           |0              |0           |0           |0            |0        |0            |0           |1              |1          |0               |0             |1            |0          |0              |0                 |0        |2               |0           |0            |1              |0          |0           |0              |0                 |0                 |\n",
            "|Adelaide Street Circuit      |2          |0         |0             |0                 |2           |0            |0           |0            |0          |0               |0           |0              |0             |1         |0               |0         |0              |0          |0            |0           |0              |0                 |0           |0           |0              |0              |0             |2             |0                 |0                   |0                |0          |0             |0                |0                    |0            |0             |0         |0           |0              |0                 |0         |0           |0                   |0                    |0         |0            |0          |0        |0           |0          |0           |0             |0              |0             |0           |0          |0                    |0         |0         |0                 |0                 |1           |0             |0           |0          |0             |0              |0                  |0            |0          |0             |0          |0                  |0             |0                 |0               |0            |0            |1            |0           |1            |0         |0          |0            |0            |0               |0                |0             |0           |0              |0           |0           |0            |0        |0            |0           |0              |0          |0               |0             |0            |0          |0              |0                 |0        |0               |0           |0            |1              |0          |0           |0              |0                 |0                 |\n",
            "|Montjuïc circuit             |0          |0         |0             |0                 |0           |0            |0           |0            |0          |0               |0           |0              |0             |0         |0               |0         |0              |0          |0            |0           |0              |1                 |0           |0           |0              |0              |0             |0             |0                 |0                   |0                |0          |0             |0                |0                    |0            |2             |0         |0           |0              |0                 |0         |0           |0                   |0                    |0         |0            |0          |0        |0           |1          |0           |0             |0              |0             |0           |0          |0                    |0         |0         |0                 |0                 |0           |0             |0           |0          |0             |0              |0                  |0            |0          |0             |0          |0                  |0             |0                 |0               |0            |0            |0            |0           |0            |0         |0          |0            |0            |0               |0                |0             |0           |0              |0           |0           |0            |0        |0            |0           |0              |0          |0               |0             |0            |0          |0              |0                 |0        |0               |0           |0            |0              |0          |0           |0              |0                 |0                 |\n",
            "|Dallas Fair Park             |0          |0         |0             |0                 |0           |0            |0           |0            |0          |0               |0           |0              |0             |0         |0               |0         |0              |0          |0            |0           |0              |0                 |0           |0           |0              |0              |0             |0             |0                 |0                   |0                |0          |0             |0                |0                    |0            |0             |0         |0           |0              |0                 |0         |0           |0                   |0                    |0         |0            |0          |0        |0           |0          |0           |0             |0              |0             |0           |0          |0                    |0         |0         |0                 |0                 |1           |0             |0           |0          |0             |0              |0                  |0            |0          |0             |0          |0                  |0             |0                 |0               |0            |0            |0            |0           |0            |0         |0          |0            |0            |0               |0                |0             |0           |0              |0           |0           |0            |0        |0            |0           |0              |0          |0               |0             |0            |0          |0              |0                 |0        |0               |0           |0            |0              |0          |0           |0              |0                 |0                 |\n",
            "|Buddh International Circuit  |0          |0         |0             |0                 |0           |0            |0           |0            |0          |0               |0           |0              |0             |0         |0               |0         |0              |0          |0            |0           |0              |0                 |0           |0           |0              |0              |0             |0             |0                 |0                   |0                |0          |0             |0                |0                    |0            |0             |0         |0           |0              |0                 |0         |0           |0                   |0                    |0         |0            |0          |0        |0           |0          |0           |0             |0              |0             |0           |0          |0                    |0         |0         |0                 |0                 |0           |0             |0           |0          |0             |0              |0                  |0            |0          |0             |0          |0                  |0             |0                 |0               |0            |0            |0            |0           |0            |0         |0          |0            |0            |0               |0                |0             |0           |0              |0           |0           |0            |0        |0            |0           |0              |0          |0               |0             |0            |0          |0              |0                 |0        |3               |0           |0            |0              |0          |0           |0              |0                 |0                 |\n",
            "|Miami International Autodrome|0          |0         |0             |0                 |0           |0            |0           |0            |0          |0               |0           |0              |0             |0         |0               |0         |0              |0          |0            |0           |0              |0                 |0           |0           |0              |0              |0             |0             |0                 |0                   |0                |0          |0             |0                |0                    |0            |0             |0         |0           |0              |0                 |0         |0           |0                   |0                    |0         |0            |0          |0        |0           |0          |0           |0             |0              |0             |0           |0          |0                    |0         |0         |0                 |0                 |0           |0             |1           |0          |0             |0              |0                  |0            |0          |0             |0          |0                  |2             |0                 |0               |0            |0            |0            |0           |0            |0         |0          |0            |1            |0               |0                |0             |0           |0              |0           |0           |0            |0        |0            |0           |0              |0          |0               |0             |0            |0          |0              |0                 |0        |0               |0           |0            |0              |0          |0           |0              |0                 |0                 |\n",
            "|Ain Diab Circuit             |0          |0         |0             |0                 |0           |0            |0           |0            |0          |0               |0           |0              |0             |0         |0               |0         |0              |0          |0            |0           |0              |0                 |0           |0           |0              |0              |0             |0             |0                 |0                   |0                |0          |0             |0                |0                    |0            |0             |0         |0           |0              |0                 |0         |0           |0                   |0                    |0         |0            |0          |0        |0           |0          |0           |0             |0              |0             |0           |0          |0                    |0         |0         |0                 |0                 |0           |0             |0           |0          |0             |0              |0                  |0            |0          |0             |0          |0                  |0             |0                 |0               |0            |0            |0            |0           |0            |0         |0          |0            |0            |0               |0                |0             |0           |0              |0           |0           |0            |0        |0            |0           |0              |0          |0               |0             |0            |0          |0              |0                 |0        |0               |0           |1            |0              |0          |0           |0              |0                 |0                 |\n",
            "|Sebring Raceway              |0          |0         |0             |0                 |0           |0            |0           |1            |0          |0               |0           |0              |0             |0         |0               |0         |0              |0          |0            |0           |0              |0                 |0           |0           |0              |0              |0             |0             |0                 |0                   |0                |0          |0             |0                |0                    |0            |0             |0         |0           |0              |0                 |0         |0           |0                   |0                    |0         |0            |0          |0        |0           |0          |0           |0             |0              |0             |0           |0          |0                    |0         |0         |0                 |0                 |0           |0             |0           |0          |0             |0              |0                  |0            |0          |0             |0          |0                  |0             |0                 |0               |0            |0            |0            |0           |0            |0         |0          |0            |0            |0               |0                |0             |0           |0              |0           |0           |0            |0        |0            |0           |0              |0          |0               |0             |0            |0          |0              |0                 |0        |0               |0           |0            |0              |0          |0           |0              |0                 |0                 |\n",
            "|Circuit Zandvoort            |2          |1         |2             |0                 |0           |0            |0           |0            |0          |0               |0           |0              |0             |0         |0               |0         |0              |0          |1            |0           |0              |0                 |0           |0           |0              |0              |0             |0             |0                 |0                   |0                |1          |0             |0                |0                    |0            |3             |1         |2           |0              |0                 |2         |0           |0                   |0                    |0         |0            |0          |4        |0           |0          |1           |0             |0              |0             |0           |0          |0                    |1         |0         |1                 |0                 |0           |0             |1           |0          |0             |0              |0                  |0            |0          |1             |0          |0                  |3             |0                 |0               |0            |0            |1            |0           |0            |3         |0          |0            |0            |0               |0                |0             |0           |0              |0           |0           |0            |0        |0            |0           |0              |1          |0               |0             |0            |0          |0              |0                 |0        |0               |0           |1            |0              |0          |0           |0              |0                 |1                 |\n",
            "|Aintree Circuit              |0          |0         |0             |0                 |0           |0            |0           |0            |0          |0               |0           |0              |0             |0         |0               |0         |0              |0          |0            |0           |0              |0                 |0           |0           |0              |0              |0             |0             |0                 |0                   |0                |0          |0             |0                |0                    |0            |0             |0         |1           |0              |0                 |0         |0           |0                   |0                    |0         |0            |0          |1        |0           |0          |0           |0             |0              |0             |0           |0          |0                    |0         |0         |0                 |0                 |0           |0             |0           |0          |0             |0              |0                  |0            |0          |0             |0          |0                  |0             |0                 |0               |0            |0            |0            |0           |0            |0         |0          |0            |0            |0               |0                |0             |0           |0              |0           |0           |0            |0        |0            |0           |0              |0          |0               |0             |0            |0          |0              |0                 |0        |0               |0           |2            |0              |1          |0           |0              |0                 |1                 |\n",
            "|Autodromo Nazionale di Monza |3          |0         |2             |0                 |2           |0            |0           |0            |0          |0               |0           |2              |2             |2         |1               |0         |1              |1          |0            |0           |0              |1                 |0           |0           |2              |0              |0             |1             |0                 |0                   |0                |1          |0             |0                |1                    |0            |2             |0         |0           |0              |0                 |0         |0           |0                   |0                    |0         |0            |0          |1        |0           |0          |0           |1             |0              |1             |2           |0          |0                    |0         |0         |3                 |2                 |0           |0             |0           |0          |5             |0              |1                  |0            |0          |1             |0          |0                  |3             |5                 |0               |0            |0            |3            |1           |1            |2         |1          |0            |0            |0               |0                |0             |0           |0              |1           |0           |0            |2        |0            |1           |0              |1          |0               |0             |0            |0          |3              |3                 |0        |3               |0           |3            |0              |1          |0           |0              |0                 |0                 |\n",
            "|Baku City Circuit            |0          |0         |0             |0                 |0           |0            |0           |0            |0          |0               |0           |0              |0             |0         |1               |0         |0              |0          |0            |0           |0              |0                 |0           |0           |0              |0              |0             |0             |0                 |0                   |0                |0          |0             |0                |0                    |0            |0             |0         |0           |0              |0                 |0         |0           |0                   |0                    |0         |0            |0          |0        |0           |0          |0           |0             |0              |0             |0           |0          |0                    |0         |0         |0                 |0                 |0           |0             |0           |0          |1             |0              |0                  |0            |0          |0             |0          |0                  |1             |0                 |0               |0            |0            |0            |1           |0            |0         |0          |0            |1            |0               |0                |0             |0           |0              |0           |0           |0            |0        |0            |0           |0              |0          |0               |0             |0            |0          |0              |0                 |0        |0               |2           |0            |0              |0          |0           |1              |0                 |0                 |\n",
            "|Circuit de Spa Francorchamps |2          |0         |2             |0                 |5           |0            |0           |1            |0          |0               |0           |1              |0             |3         |1               |1         |1              |0          |0            |0           |0              |0                 |0           |1           |0              |0              |0             |0             |0                 |0                   |0                |0          |0             |0                |0                    |0            |0             |0         |1           |0              |0                 |0         |0           |0                   |0                    |0         |1            |0          |4        |0           |0          |0           |0             |0              |0             |1           |0          |0                    |0         |0         |3                 |0                 |0           |4             |0           |0          |5             |0              |0                  |0            |0          |0             |0          |0                  |3             |6                 |0               |1            |0            |0            |1           |1            |0         |1          |0            |1            |0               |0                |0             |0           |1              |0           |0           |1            |1        |0            |0           |0              |0          |0               |0             |0            |0          |0              |0                 |0        |3               |0           |0            |0              |1          |0           |0              |0                 |0                 |\n",
            "+-----------------------------+-----------+----------+--------------+------------------+------------+-------------+------------+-------------+-----------+----------------+------------+---------------+--------------+----------+----------------+----------+---------------+-----------+-------------+------------+---------------+------------------+------------+------------+---------------+---------------+--------------+--------------+------------------+--------------------+-----------------+-----------+--------------+-----------------+---------------------+-------------+--------------+----------+------------+---------------+------------------+----------+------------+--------------------+---------------------+----------+-------------+-----------+---------+------------+-----------+------------+--------------+---------------+--------------+------------+-----------+---------------------+----------+----------+------------------+------------------+------------+--------------+------------+-----------+--------------+---------------+-------------------+-------------+-----------+--------------+-----------+-------------------+--------------+------------------+----------------+-------------+-------------+-------------+------------+-------------+----------+-----------+-------------+-------------+----------------+-----------------+--------------+------------+---------------+------------+------------+-------------+---------+-------------+------------+---------------+-----------+----------------+--------------+-------------+-----------+---------------+------------------+---------+----------------+------------+-------------+---------------+-----------+------------+---------------+------------------+------------------+\n",
            "only showing top 20 rows\n",
            "\n"
          ]
        }
      ]
    },
    {
      "cell_type": "code",
      "source": [
        "#ano x quantidade de vezes que o piloto ganhou\n",
        "feature_store2 = df_F1.groupBy(\"year\")\\\n",
        ".pivot(\"winner_name\")\\\n",
        ".agg(count(\"*\"))\\\n",
        ".orderBy(\"year\", ascending=False)\\\n",
        ".fillna(0) #troca o null por 0\n"
      ],
      "metadata": {
        "id": "NIVyxO9M8fmJ"
      },
      "execution_count": null,
      "outputs": []
    },
    {
      "cell_type": "code",
      "source": [
        "feature_store2.show(truncate=False)"
      ],
      "metadata": {
        "colab": {
          "base_uri": "https://localhost:8080/"
        },
        "id": "W6A6Y1UD8oks",
        "outputId": "c863c5ab-d240-4abf-a694-bc30f242a2cc"
      },
      "execution_count": null,
      "outputs": [
        {
          "output_type": "stream",
          "name": "stdout",
          "text": [
            "+----+-----------+----------+--------------+------------------+------------+-------------+------------+-------------+-----------+----------------+------------+---------------+--------------+----------+----------------+----------+---------------+-----------+-------------+------------+---------------+------------------+------------+------------+---------------+---------------+--------------+--------------+------------------+--------------------+-----------------+-----------+--------------+-----------------+---------------------+-------------+--------------+----------+------------+---------------+------------------+----------+------------+--------------------+---------------------+----------+-------------+-----------+---------+------------+-----------+------------+--------------+---------------+--------------+------------+-----------+---------------------+----------+----------+------------------+------------------+------------+--------------+------------+-----------+--------------+---------------+-------------------+-------------+-----------+--------------+-----------+-------------------+--------------+------------------+----------------+-------------+-------------+-------------+------------+-------------+----------+-----------+-------------+-------------+----------------+-----------------+--------------+------------+---------------+------------+------------+-------------+---------+-------------+------------+---------------+-----------+----------------+--------------+-------------+-----------+---------------+------------------+---------+----------------+------------+-------------+---------------+-----------+------------+---------------+------------------+------------------+\n",
            "|year|Alain Prost|Alan Jones|Alberto Ascari|Alessandro Nannini|Ayrton Senna|Bill Vukovich|Bob Sweikert|Bruce McLaren|Carlos Pace|Carlos Reutemann|Carlos Sainz|Charles Leclerc|Clay Regazzoni|Damon Hill|Daniel Ricciardo|Dan Gurney|David Coulthard|Denny Hulme|Didier Pironi|Eddie Irvine|Elio de Angelis|Emerson Fittipaldi|Esteban Ocon|Felipe Massa|Fernando Alonso|Francois Cevert|George Russell|Gerhard Berger|Giancarlo Baghetti|Giancarlo Fisichella|Gilles Villeneuve|Graham Hill|Gunnar Nilsson|Heikki Kovalainen|Heinz-Harald Frentzen|Innes Ireland|Jackie Stewart|Jacky Ickx|Jack Brabham|Jacques Laffite|Jacques Villeneuve|James Hunt|Jarno Trulli|Jean-Pierre Beltoise|Jean-Pierre Jabouille|Jean Alesi|Jenson Button|Jimmy Bryan|Jim Clark|Jim Rathmann|Jochen Mass|Jochen Rindt|Jody Scheckter|Johnnie Parsons|Johnny Herbert|John Surtees|John Watson|Jose Froilan Gonzalez|Jo Bonnier|Jo Siffert|Juan Manuel Fangio|Juan Pablo Montoya|Keke Rosberg|Kimi Raikkonen|Lando Norris|Lee Wallard|Lewis Hamilton|Lorenzo Bandini|Ludovico Scarfiotti|Luigi Fagioli|Luigi Musso|Mario Andretti|Mark Webber|Maurice Trintignant|Max Verstappen|Michael Schumacher|Michele Alboreto|Mika Hakkinen|Mike Hawthorn|Nelson Piquet|Nico Rosberg|Nigel Mansell|Niki Lauda|Nino Farina|Olivier Panis|Oscar Piastri|Pastor Maldonado|Patrick Depailler|Patrick Tambay|Pat Flaherty|Pedro Rodriguez|Peter Gethin|Peter Revson|Peter Collins|Phil Hill|Piero Taruffi|Pierre Gasly|Ralf Schumacher|Rene Arnoux|Riccardo Patrese|Richie Ginther|Robert Kubica|Rodger Ward|Ronnie Peterson|Rubens Barrichello|Sam Hanks|Sebastian Vettel|Sergio Perez|Stirling Moss|Thierry Boutsen|Tony Brooks|Troy Ruttman|Valtteri Bottas|Vittorio Brambilla|Wolfgang von Trips|\n",
            "+----+-----------+----------+--------------+------------------+------------+-------------+------------+-------------+-----------+----------------+------------+---------------+--------------+----------+----------------+----------+---------------+-----------+-------------+------------+---------------+------------------+------------+------------+---------------+---------------+--------------+--------------+------------------+--------------------+-----------------+-----------+--------------+-----------------+---------------------+-------------+--------------+----------+------------+---------------+------------------+----------+------------+--------------------+---------------------+----------+-------------+-----------+---------+------------+-----------+------------+--------------+---------------+--------------+------------+-----------+---------------------+----------+----------+------------------+------------------+------------+--------------+------------+-----------+--------------+---------------+-------------------+-------------+-----------+--------------+-----------+-------------------+--------------+------------------+----------------+-------------+-------------+-------------+------------+-------------+----------+-----------+-------------+-------------+----------------+-----------------+--------------+------------+---------------+------------+------------+-------------+---------+-------------+------------+---------------+-----------+----------------+--------------+-------------+-----------+---------------+------------------+---------+----------------+------------+-------------+---------------+-----------+------------+---------------+------------------+------------------+\n",
            "|2025|0          |0         |0             |0                 |0           |0            |0           |0            |0          |0               |0           |0              |0             |0         |0               |0         |0              |0          |0            |0           |0              |0                 |0           |0           |0              |0              |1             |0             |0                 |0                   |0                |0          |0             |0                |0                    |0            |0             |0         |0           |0              |0                 |0         |0           |0                   |0                    |0         |0            |0          |0        |0           |0          |0           |0             |0              |0             |0           |0          |0                    |0         |0         |0                 |0                 |0           |0             |5           |0          |0             |0              |0                  |0            |0          |0             |0          |0                  |2             |0                 |0               |0            |0            |0            |0           |0            |0         |0          |0            |6            |0               |0                |0             |0           |0              |0           |0           |0            |0        |0            |0           |0              |0          |0               |0             |0            |0          |0              |0                 |0        |0               |0           |0            |0              |0          |0           |0              |0                 |0                 |\n",
            "|2024|0          |0         |0             |0                 |0           |0            |0           |0            |0          |0               |2           |3              |0             |0         |0               |0         |0              |0          |0            |0           |0              |0                 |0           |0           |0              |0              |2             |0             |0                 |0                   |0                |0          |0             |0                |0                    |0            |0             |0         |0           |0              |0                 |0         |0           |0                   |0                    |0         |0            |0          |0        |0           |0          |0           |0             |0              |0             |0           |0          |0                    |0         |0         |0                 |0                 |0           |0             |4           |0          |2             |0              |0                  |0            |0          |0             |0          |0                  |9             |0                 |0               |0            |0            |0            |0           |0            |0         |0          |0            |2            |0               |0                |0             |0           |0              |0           |0           |0            |0        |0            |0           |0              |0          |0               |0             |0            |0          |0              |0                 |0        |0               |0           |0            |0              |0          |0           |0              |0                 |0                 |\n",
            "|2023|0          |0         |0             |0                 |0           |0            |0           |0            |0          |0               |1           |0              |0             |0         |0               |0         |0              |0          |0            |0           |0              |0                 |0           |0           |0              |0              |0             |0             |0                 |0                   |0                |0          |0             |0                |0                    |0            |0             |0         |0           |0              |0                 |0         |0           |0                   |0                    |0         |0            |0          |0        |0           |0          |0           |0             |0              |0             |0           |0          |0                    |0         |0         |0                 |0                 |0           |0             |0           |0          |0             |0              |0                  |0            |0          |0             |0          |0                  |19            |0                 |0               |0            |0            |0            |0           |0            |0         |0          |0            |0            |0               |0                |0             |0           |0              |0           |0           |0            |0        |0            |0           |0              |0          |0               |0             |0            |0          |0              |0                 |0        |0               |2           |0            |0              |0          |0           |0              |0                 |0                 |\n",
            "|2022|0          |0         |0             |0                 |0           |0            |0           |0            |0          |0               |1           |3              |0             |0         |0               |0         |0              |0          |0            |0           |0              |0                 |0           |0           |0              |0              |1             |0             |0                 |0                   |0                |0          |0             |0                |0                    |0            |0             |0         |0           |0              |0                 |0         |0           |0                   |0                    |0         |0            |0          |0        |0           |0          |0           |0             |0              |0             |0           |0          |0                    |0         |0         |0                 |0                 |0           |0             |0           |0          |0             |0              |0                  |0            |0          |0             |0          |0                  |15            |0                 |0               |0            |0            |0            |0           |0            |0         |0          |0            |0            |0               |0                |0             |0           |0              |0           |0           |0            |0        |0            |0           |0              |0          |0               |0             |0            |0          |0              |0                 |0        |0               |2           |0            |0              |0          |0           |0              |0                 |0                 |\n",
            "|2021|0          |0         |0             |0                 |0           |0            |0           |0            |0          |0               |0           |0              |0             |0         |1               |0         |0              |0          |0            |0           |0              |0                 |1           |0           |0              |0              |0             |0             |0                 |0                   |0                |0          |0             |0                |0                    |0            |0             |0         |0           |0              |0                 |0         |0           |0                   |0                    |0         |0            |0          |0        |0           |0          |0           |0             |0              |0             |0           |0          |0                    |0         |0         |0                 |0                 |0           |0             |0           |0          |8             |0              |0                  |0            |0          |0             |0          |0                  |10            |0                 |0               |0            |0            |0            |0           |0            |0         |0          |0            |0            |0               |0                |0             |0           |0              |0           |0           |0            |0        |0            |0           |0              |0          |0               |0             |0            |0          |0              |0                 |0        |0               |1           |0            |0              |0          |0           |1              |0                 |0                 |\n",
            "|2020|0          |0         |0             |0                 |0           |0            |0           |0            |0          |0               |0           |0              |0             |0         |0               |0         |0              |0          |0            |0           |0              |0                 |0           |0           |0              |0              |0             |0             |0                 |0                   |0                |0          |0             |0                |0                    |0            |0             |0         |0           |0              |0                 |0         |0           |0                   |0                    |0         |0            |0          |0        |0           |0          |0           |0             |0              |0             |0           |0          |0                    |0         |0         |0                 |0                 |0           |0             |0           |0          |11            |0              |0                  |0            |0          |0             |0          |0                  |2             |0                 |0               |0            |0            |0            |0           |0            |0         |0          |0            |0            |0               |0                |0             |0           |0              |0           |0           |0            |0        |0            |1           |0              |0          |0               |0             |0            |0          |0              |0                 |0        |0               |1           |0            |0              |0          |0           |2              |0                 |0                 |\n",
            "|2019|0          |0         |0             |0                 |0           |0            |0           |0            |0          |0               |0           |2              |0             |0         |0               |0         |0              |0          |0            |0           |0              |0                 |0           |0           |0              |0              |0             |0             |0                 |0                   |0                |0          |0             |0                |0                    |0            |0             |0         |0           |0              |0                 |0         |0           |0                   |0                    |0         |0            |0          |0        |0           |0          |0           |0             |0              |0             |0           |0          |0                    |0         |0         |0                 |0                 |0           |0             |0           |0          |11            |0              |0                  |0            |0          |0             |0          |0                  |3             |0                 |0               |0            |0            |0            |0           |0            |0         |0          |0            |0            |0               |0                |0             |0           |0              |0           |0           |0            |0        |0            |0           |0              |0          |0               |0             |0            |0          |0              |0                 |0        |1               |0           |0            |0              |0          |0           |4              |0                 |0                 |\n",
            "|2018|0          |0         |0             |0                 |0           |0            |0           |0            |0          |0               |0           |0              |0             |0         |2               |0         |0              |0          |0            |0           |0              |0                 |0           |0           |0              |0              |0             |0             |0                 |0                   |0                |0          |0             |0                |0                    |0            |0             |0         |0           |0              |0                 |0         |0           |0                   |0                    |0         |0            |0          |0        |0           |0          |0           |0             |0              |0             |0           |0          |0                    |0         |0         |0                 |0                 |0           |1             |0           |0          |11            |0              |0                  |0            |0          |0             |0          |0                  |2             |0                 |0               |0            |0            |0            |0           |0            |0         |0          |0            |0            |0               |0                |0             |0           |0              |0           |0           |0            |0        |0            |0           |0              |0          |0               |0             |0            |0          |0              |0                 |0        |5               |0           |0            |0              |0          |0           |0              |0                 |0                 |\n",
            "|2017|0          |0         |0             |0                 |0           |0            |0           |0            |0          |0               |0           |0              |0             |0         |1               |0         |0              |0          |0            |0           |0              |0                 |0           |0           |0              |0              |0             |0             |0                 |0                   |0                |0          |0             |0                |0                    |0            |0             |0         |0           |0              |0                 |0         |0           |0                   |0                    |0         |0            |0          |0        |0           |0          |0           |0             |0              |0             |0           |0          |0                    |0         |0         |0                 |0                 |0           |0             |0           |0          |9             |0              |0                  |0            |0          |0             |0          |0                  |2             |0                 |0               |0            |0            |0            |0           |0            |0         |0          |0            |0            |0               |0                |0             |0           |0              |0           |0           |0            |0        |0            |0           |0              |0          |0               |0             |0            |0          |0              |0                 |0        |5               |0           |0            |0              |0          |0           |3              |0                 |0                 |\n",
            "|2016|0          |0         |0             |0                 |0           |0            |0           |0            |0          |0               |0           |0              |0             |0         |1               |0         |0              |0          |0            |0           |0              |0                 |0           |0           |0              |0              |0             |0             |0                 |0                   |0                |0          |0             |0                |0                    |0            |0             |0         |0           |0              |0                 |0         |0           |0                   |0                    |0         |0            |0          |0        |0           |0          |0           |0             |0              |0             |0           |0          |0                    |0         |0         |0                 |0                 |0           |0             |0           |0          |10            |0              |0                  |0            |0          |0             |0          |0                  |1             |0                 |0               |0            |0            |0            |9           |0            |0         |0          |0            |0            |0               |0                |0             |0           |0              |0           |0           |0            |0        |0            |0           |0              |0          |0               |0             |0            |0          |0              |0                 |0        |0               |0           |0            |0              |0          |0           |0              |0                 |0                 |\n",
            "|2015|0          |0         |0             |0                 |0           |0            |0           |0            |0          |0               |0           |0              |0             |0         |0               |0         |0              |0          |0            |0           |0              |0                 |0           |0           |0              |0              |0             |0             |0                 |0                   |0                |0          |0             |0                |0                    |0            |0             |0         |0           |0              |0                 |0         |0           |0                   |0                    |0         |0            |0          |0        |0           |0          |0           |0             |0              |0             |0           |0          |0                    |0         |0         |0                 |0                 |0           |0             |0           |0          |10            |0              |0                  |0            |0          |0             |0          |0                  |0             |0                 |0               |0            |0            |0            |6           |0            |0         |0          |0            |0            |0               |0                |0             |0           |0              |0           |0           |0            |0        |0            |0           |0              |0          |0               |0             |0            |0          |0              |0                 |0        |3               |0           |0            |0              |0          |0           |0              |0                 |0                 |\n",
            "|2014|0          |0         |0             |0                 |0           |0            |0           |0            |0          |0               |0           |0              |0             |0         |3               |0         |0              |0          |0            |0           |0              |0                 |0           |0           |0              |0              |0             |0             |0                 |0                   |0                |0          |0             |0                |0                    |0            |0             |0         |0           |0              |0                 |0         |0           |0                   |0                    |0         |0            |0          |0        |0           |0          |0           |0             |0              |0             |0           |0          |0                    |0         |0         |0                 |0                 |0           |0             |0           |0          |11            |0              |0                  |0            |0          |0             |0          |0                  |0             |0                 |0               |0            |0            |0            |5           |0            |0         |0          |0            |0            |0               |0                |0             |0           |0              |0           |0           |0            |0        |0            |0           |0              |0          |0               |0             |0            |0          |0              |0                 |0        |0               |0           |0            |0              |0          |0           |0              |0                 |0                 |\n",
            "|2013|0          |0         |0             |0                 |0           |0            |0           |0            |0          |0               |0           |0              |0             |0         |0               |0         |0              |0          |0            |0           |0              |0                 |0           |0           |2              |0              |0             |0             |0                 |0                   |0                |0          |0             |0                |0                    |0            |0             |0         |0           |0              |0                 |0         |0           |0                   |0                    |0         |0            |0          |0        |0           |0          |0           |0             |0              |0             |0           |0          |0                    |0         |0         |0                 |0                 |0           |1             |0           |0          |1             |0              |0                  |0            |0          |0             |0          |0                  |0             |0                 |0               |0            |0            |0            |2           |0            |0         |0          |0            |0            |0               |0                |0             |0           |0              |0           |0           |0            |0        |0            |0           |0              |0          |0               |0             |0            |0          |0              |0                 |0        |13              |0           |0            |0              |0          |0           |0              |0                 |0                 |\n",
            "|2012|0          |0         |0             |0                 |0           |0            |0           |0            |0          |0               |0           |0              |0             |0         |0               |0         |0              |0          |0            |0           |0              |0                 |0           |0           |3              |0              |0             |0             |0                 |0                   |0                |0          |0             |0                |0                    |0            |0             |0         |0           |0              |0                 |0         |0           |0                   |0                    |0         |3            |0          |0        |0           |0          |0           |0             |0              |0             |0           |0          |0                    |0         |0         |0                 |0                 |0           |1             |0           |0          |4             |0              |0                  |0            |0          |0             |2          |0                  |0             |0                 |0               |0            |0            |0            |1           |0            |0         |0          |0            |0            |1               |0                |0             |0           |0              |0           |0           |0            |0        |0            |0           |0              |0          |0               |0             |0            |0          |0              |0                 |0        |5               |0           |0            |0              |0          |0           |0              |0                 |0                 |\n",
            "|2011|0          |0         |0             |0                 |0           |0            |0           |0            |0          |0               |0           |0              |0             |0         |0               |0         |0              |0          |0            |0           |0              |0                 |0           |0           |1              |0              |0             |0             |0                 |0                   |0                |0          |0             |0                |0                    |0            |0             |0         |0           |0              |0                 |0         |0           |0                   |0                    |0         |3            |0          |0        |0           |0          |0           |0             |0              |0             |0           |0          |0                    |0         |0         |0                 |0                 |0           |0             |0           |0          |3             |0              |0                  |0            |0          |0             |1          |0                  |0             |0                 |0               |0            |0            |0            |0           |0            |0         |0          |0            |0            |0               |0                |0             |0           |0              |0           |0           |0            |0        |0            |0           |0              |0          |0               |0             |0            |0          |0              |0                 |0        |11              |0           |0            |0              |0          |0           |0              |0                 |0                 |\n",
            "|2010|0          |0         |0             |0                 |0           |0            |0           |0            |0          |0               |0           |0              |0             |0         |0               |0         |0              |0          |0            |0           |0              |0                 |0           |0           |5              |0              |0             |0             |0                 |0                   |0                |0          |0             |0                |0                    |0            |0             |0         |0           |0              |0                 |0         |0           |0                   |0                    |0         |2            |0          |0        |0           |0          |0           |0             |0              |0             |0           |0          |0                    |0         |0         |0                 |0                 |0           |0             |0           |0          |3             |0              |0                  |0            |0          |0             |4          |0                  |0             |0                 |0               |0            |0            |0            |0           |0            |0         |0          |0            |0            |0               |0                |0             |0           |0              |0           |0           |0            |0        |0            |0           |0              |0          |0               |0             |0            |0          |0              |0                 |0        |5               |0           |0            |0              |0          |0           |0              |0                 |0                 |\n",
            "|2009|0          |0         |0             |0                 |0           |0            |0           |0            |0          |0               |0           |0              |0             |0         |0               |0         |0              |0          |0            |0           |0              |0                 |0           |0           |0              |0              |0             |0             |0                 |0                   |0                |0          |0             |0                |0                    |0            |0             |0         |0           |0              |0                 |0         |0           |0                   |0                    |0         |6            |0          |0        |0           |0          |0           |0             |0              |0             |0           |0          |0                    |0         |0         |0                 |0                 |0           |1             |0           |0          |2             |0              |0                  |0            |0          |0             |2          |0                  |0             |0                 |0               |0            |0            |0            |0           |0            |0         |0          |0            |0            |0               |0                |0             |0           |0              |0           |0           |0            |0        |0            |0           |0              |0          |0               |0             |0            |0          |0              |2                 |0        |4               |0           |0            |0              |0          |0           |0              |0                 |0                 |\n",
            "|2008|0          |0         |0             |0                 |0           |0            |0           |0            |0          |0               |0           |0              |0             |0         |0               |0         |0              |0          |0            |0           |0              |0                 |0           |6           |2              |0              |0             |0             |0                 |0                   |0                |0          |0             |1                |0                    |0            |0             |0         |0           |0              |0                 |0         |0           |0                   |0                    |0         |0            |0          |0        |0           |0          |0           |0             |0              |0             |0           |0          |0                    |0         |0         |0                 |0                 |0           |2             |0           |0          |5             |0              |0                  |0            |0          |0             |0          |0                  |0             |0                 |0               |0            |0            |0            |0           |0            |0         |0          |0            |0            |0               |0                |0             |0           |0              |0           |0           |0            |0        |0            |0           |0              |0          |0               |0             |1            |0          |0              |0                 |0        |1               |0           |0            |0              |0          |0           |0              |0                 |0                 |\n",
            "|2007|0          |0         |0             |0                 |0           |0            |0           |0            |0          |0               |0           |0              |0             |0         |0               |0         |0              |0          |0            |0           |0              |0                 |0           |3           |4              |0              |0             |0             |0                 |0                   |0                |0          |0             |0                |0                    |0            |0             |0         |0           |0              |0                 |0         |0           |0                   |0                    |0         |0            |0          |0        |0           |0          |0           |0             |0              |0             |0           |0          |0                    |0         |0         |0                 |0                 |0           |6             |0           |0          |4             |0              |0                  |0            |0          |0             |0          |0                  |0             |0                 |0               |0            |0            |0            |0           |0            |0         |0          |0            |0            |0               |0                |0             |0           |0              |0           |0           |0            |0        |0            |0           |0              |0          |0               |0             |0            |0          |0              |0                 |0        |0               |0           |0            |0              |0          |0           |0              |0                 |0                 |\n",
            "|2006|0          |0         |0             |0                 |0           |0            |0           |0            |0          |0               |0           |0              |0             |0         |0               |0         |0              |0          |0            |0           |0              |0                 |0           |2           |7              |0              |0             |0             |0                 |1                   |0                |0          |0             |0                |0                    |0            |0             |0         |0           |0              |0                 |0         |0           |0                   |0                    |0         |1            |0          |0        |0           |0          |0           |0             |0              |0             |0           |0          |0                    |0         |0         |0                 |0                 |0           |0             |0           |0          |0             |0              |0                  |0            |0          |0             |0          |0                  |0             |7                 |0               |0            |0            |0            |0           |0            |0         |0          |0            |0            |0               |0                |0             |0           |0              |0           |0           |0            |0        |0            |0           |0              |0          |0               |0             |0            |0          |0              |0                 |0        |0               |0           |0            |0              |0          |0           |0              |0                 |0                 |\n",
            "+----+-----------+----------+--------------+------------------+------------+-------------+------------+-------------+-----------+----------------+------------+---------------+--------------+----------+----------------+----------+---------------+-----------+-------------+------------+---------------+------------------+------------+------------+---------------+---------------+--------------+--------------+------------------+--------------------+-----------------+-----------+--------------+-----------------+---------------------+-------------+--------------+----------+------------+---------------+------------------+----------+------------+--------------------+---------------------+----------+-------------+-----------+---------+------------+-----------+------------+--------------+---------------+--------------+------------+-----------+---------------------+----------+----------+------------------+------------------+------------+--------------+------------+-----------+--------------+---------------+-------------------+-------------+-----------+--------------+-----------+-------------------+--------------+------------------+----------------+-------------+-------------+-------------+------------+-------------+----------+-----------+-------------+-------------+----------------+-----------------+--------------+------------+---------------+------------+------------+-------------+---------+-------------+------------+---------------+-----------+----------------+--------------+-------------+-----------+---------------+------------------+---------+----------------+------------+-------------+---------------+-----------+------------+---------------+------------------+------------------+\n",
            "only showing top 20 rows\n",
            "\n"
          ]
        }
      ]
    },
    {
      "cell_type": "code",
      "source": [
        "#ano x quantidade de vezes que cada equipe ganhou\n",
        "feature_store3 = df_F1.groupBy(\"year\")\\\n",
        ".pivot(\"team\")\\\n",
        ".agg(count(\"*\"))\\\n",
        ".orderBy(\"year\", ascending=False)\\\n",
        ".fillna(0) #troca o null por 0"
      ],
      "metadata": {
        "id": "uLbKFzTC9cbH"
      },
      "execution_count": null,
      "outputs": []
    },
    {
      "cell_type": "code",
      "source": [
        "feature_store3.show(truncate=False)"
      ],
      "metadata": {
        "colab": {
          "base_uri": "https://localhost:8080/"
        },
        "id": "BB3h3tN99ga-",
        "outputId": "5c613b14-5d9e-455b-cbda-a8933d9e7ba1"
      },
      "execution_count": null,
      "outputs": [
        {
          "output_type": "stream",
          "name": "stdout",
          "text": [
            "+----+----------+----------------+--------------+---+------------+-------------+----------------+------------------+-----------+--------------+------------+-------------+--------------+-------------+---------------+-------------+-------------------+-------+------------+-----+-----------+------------------+------------------------+-----------------+-----------+------------+------------------+---------+------------+----------+-----------+-------------+----------+--------+----------+-------+------------+-------------+----------------+-----------+--------+-------------+-----------+-------+-----------+-------------------------+---------------+---------------------+--------------------------+--------------------+-----------------------+-------------------------+-------+-----------+----------+-----------+------------+------------+-------+------------------+------------+-------------+--------------+----------------+---------+\n",
            "|year|Alfa Romeo|AlphaTauri Honda|Alpine Renault|BRM|Benetton BMW|Benetton Ford|Benetton Renault|Brabham Alfa Romeo|Brabham BMW|Brabham Climax|Brabham Ford|Brabham Repco|Brawn Mercedes|Cooper Climax|Cooper Maserati|Eagle Weslake|Epperly Offenhauser|Ferrari|Hesketh Ford|Honda|Jordan Ford|Jordan Mugen Honda|Kurtis Kraft Offenhauser|Kuzma Offenhauser|Ligier Ford|Ligier Matra|Ligier Mugen Honda|Lotus BRM|Lotus Climax|Lotus Ford|Lotus Honda|Lotus Renault|March Ford|Maserati|Matra Ford|McLaren|McLaren Ford|McLaren Honda|McLaren Mercedes|McLaren TAG|Mercedes|Mercedes-Benz|Penske Ford|Porsche|RBR Renault|Racing Point BWT Mercedes|Red Bull Racing|Red Bull Racing Honda|Red Bull Racing Honda RBPT|Red Bull Racing RBPT|Red Bull Racing Renault|Red Bull Racing TAG Heuer|Renault|STR Ferrari|Sauber BMW|Shadow Ford|Stewart Ford|Tyrrell Ford|Vanwall|Watson Offenhauser|Williams BMW|Williams Ford|Williams Honda|Williams Renault|Wolf Ford|\n",
            "+----+----------+----------------+--------------+---+------------+-------------+----------------+------------------+-----------+--------------+------------+-------------+--------------+-------------+---------------+-------------+-------------------+-------+------------+-----+-----------+------------------+------------------------+-----------------+-----------+------------+------------------+---------+------------+----------+-----------+-------------+----------+--------+----------+-------+------------+-------------+----------------+-----------+--------+-------------+-----------+-------+-----------+-------------------------+---------------+---------------------+--------------------------+--------------------+-----------------------+-------------------------+-------+-----------+----------+-----------+------------+------------+-------+------------------+------------+-------------+--------------+----------------+---------+\n",
            "|2025|0         |0               |0             |0  |0           |0            |0               |0                 |0          |0             |0           |0            |0             |0            |0              |0            |0                  |0      |0           |0    |0          |0                 |0                       |0                |0          |0           |0                 |0        |0           |0         |0          |0            |0         |0       |0         |11     |0           |0            |0               |0          |1       |0            |0          |0      |0          |0                        |2              |0                    |0                         |0                   |0                      |0                        |0      |0          |0         |0          |0           |0           |0      |0                 |0           |0            |0             |0               |0        |\n",
            "|2024|0         |0               |0             |0  |0           |0            |0               |0                 |0          |0             |0           |0            |0             |0            |0              |0            |0                  |5      |0           |0    |0          |0                 |0                       |0                |0          |0           |0                 |0        |0           |0         |0          |0            |0         |0       |0         |0      |0           |0            |6               |0          |4       |0            |0          |0      |0          |0                        |0              |0                    |9                         |0                   |0                      |0                        |0      |0          |0         |0          |0           |0           |0      |0                 |0           |0            |0             |0               |0        |\n",
            "|2023|0         |0               |0             |0  |0           |0            |0               |0                 |0          |0             |0           |0            |0             |0            |0              |0            |0                  |1      |0           |0    |0          |0                 |0                       |0                |0          |0           |0                 |0        |0           |0         |0          |0            |0         |0       |0         |0      |0           |0            |0               |0          |0       |0            |0          |0      |0          |0                        |0              |0                    |21                        |0                   |0                      |0                        |0      |0          |0         |0          |0           |0           |0      |0                 |0           |0            |0             |0               |0        |\n",
            "|2022|0         |0               |0             |0  |0           |0            |0               |0                 |0          |0             |0           |0            |0             |0            |0              |0            |0                  |4      |0           |0    |0          |0                 |0                       |0                |0          |0           |0                 |0        |0           |0         |0          |0            |0         |0       |0         |0      |0           |0            |0               |0          |1       |0            |0          |0      |0          |0                        |0              |0                    |0                         |17                  |0                      |0                        |0      |0          |0         |0          |0           |0           |0      |0                 |0           |0            |0             |0               |0        |\n",
            "|2021|0         |0               |1             |0  |0           |0            |0               |0                 |0          |0             |0           |0            |0             |0            |0              |0            |0                  |0      |0           |0    |0          |0                 |0                       |0                |0          |0           |0                 |0        |0           |0         |0          |0            |0         |0       |0         |0      |0           |0            |1               |0          |9       |0            |0          |0      |0          |0                        |0              |11                   |0                         |0                   |0                      |0                        |0      |0          |0         |0          |0           |0           |0      |0                 |0           |0            |0             |0               |0        |\n",
            "|2020|0         |1               |0             |0  |0           |0            |0               |0                 |0          |0             |0           |0            |0             |0            |0              |0            |0                  |0      |0           |0    |0          |0                 |0                       |0                |0          |0           |0                 |0        |0           |0         |0          |0            |0         |0       |0         |0      |0           |0            |0               |0          |13      |0            |0          |0      |0          |1                        |0              |2                    |0                         |0                   |0                      |0                        |0      |0          |0         |0          |0           |0           |0      |0                 |0           |0            |0             |0               |0        |\n",
            "|2019|0         |0               |0             |0  |0           |0            |0               |0                 |0          |0             |0           |0            |0             |0            |0              |0            |0                  |3      |0           |0    |0          |0                 |0                       |0                |0          |0           |0                 |0        |0           |0         |0          |0            |0         |0       |0         |0      |0           |0            |0               |0          |15      |0            |0          |0      |0          |0                        |0              |3                    |0                         |0                   |0                      |0                        |0      |0          |0         |0          |0           |0           |0      |0                 |0           |0            |0             |0               |0        |\n",
            "|2018|0         |0               |0             |0  |0           |0            |0               |0                 |0          |0             |0           |0            |0             |0            |0              |0            |0                  |6      |0           |0    |0          |0                 |0                       |0                |0          |0           |0                 |0        |0           |0         |0          |0            |0         |0       |0         |0      |0           |0            |0               |0          |11      |0            |0          |0      |0          |0                        |0              |0                    |0                         |0                   |0                      |4                        |0      |0          |0         |0          |0           |0           |0      |0                 |0           |0            |0             |0               |0        |\n",
            "|2017|0         |0               |0             |0  |0           |0            |0               |0                 |0          |0             |0           |0            |0             |0            |0              |0            |0                  |5      |0           |0    |0          |0                 |0                       |0                |0          |0           |0                 |0        |0           |0         |0          |0            |0         |0       |0         |0      |0           |0            |0               |0          |12      |0            |0          |0      |0          |0                        |0              |0                    |0                         |0                   |0                      |3                        |0      |0          |0         |0          |0           |0           |0      |0                 |0           |0            |0             |0               |0        |\n",
            "|2016|0         |0               |0             |0  |0           |0            |0               |0                 |0          |0             |0           |0            |0             |0            |0              |0            |0                  |0      |0           |0    |0          |0                 |0                       |0                |0          |0           |0                 |0        |0           |0         |0          |0            |0         |0       |0         |0      |0           |0            |0               |0          |19      |0            |0          |0      |0          |0                        |0              |0                    |0                         |0                   |0                      |2                        |0      |0          |0         |0          |0           |0           |0      |0                 |0           |0            |0             |0               |0        |\n",
            "|2015|0         |0               |0             |0  |0           |0            |0               |0                 |0          |0             |0           |0            |0             |0            |0              |0            |0                  |3      |0           |0    |0          |0                 |0                       |0                |0          |0           |0                 |0        |0           |0         |0          |0            |0         |0       |0         |0      |0           |0            |0               |0          |16      |0            |0          |0      |0          |0                        |0              |0                    |0                         |0                   |0                      |0                        |0      |0          |0         |0          |0           |0           |0      |0                 |0           |0            |0             |0               |0        |\n",
            "|2014|0         |0               |0             |0  |0           |0            |0               |0                 |0          |0             |0           |0            |0             |0            |0              |0            |0                  |0      |0           |0    |0          |0                 |0                       |0                |0          |0           |0                 |0        |0           |0         |0          |0            |0         |0       |0         |0      |0           |0            |0               |0          |16      |0            |0          |0      |0          |0                        |0              |0                    |0                         |0                   |3                      |0                        |0      |0          |0         |0          |0           |0           |0      |0                 |0           |0            |0             |0               |0        |\n",
            "|2013|0         |0               |0             |0  |0           |0            |0               |0                 |0          |0             |0           |0            |0             |0            |0              |0            |0                  |2      |0           |0    |0          |0                 |0                       |0                |0          |0           |0                 |0        |0           |0         |0          |1            |0         |0       |0         |0      |0           |0            |0               |0          |3       |0            |0          |0      |0          |0                        |0              |0                    |0                         |0                   |13                     |0                        |0      |0          |0         |0          |0           |0           |0      |0                 |0           |0            |0             |0               |0        |\n",
            "|2012|0         |0               |0             |0  |0           |0            |0               |0                 |0          |0             |0           |0            |0             |0            |0              |0            |0                  |3      |0           |0    |0          |0                 |0                       |0                |0          |0           |0                 |0        |0           |0         |0          |1            |0         |0       |0         |0      |0           |0            |7               |0          |1       |0            |0          |0      |0          |0                        |0              |0                    |0                         |0                   |7                      |0                        |0      |0          |0         |0          |0           |0           |0      |0                 |0           |0            |0             |1               |0        |\n",
            "|2011|0         |0               |0             |0  |0           |0            |0               |0                 |0          |0             |0           |0            |0             |0            |0              |0            |0                  |1      |0           |0    |0          |0                 |0                       |0                |0          |0           |0                 |0        |0           |0         |0          |0            |0         |0       |0         |0      |0           |0            |6               |0          |0       |0            |0          |0      |0          |0                        |0              |0                    |0                         |0                   |12                     |0                        |0      |0          |0         |0          |0           |0           |0      |0                 |0           |0            |0             |0               |0        |\n",
            "|2010|0         |0               |0             |0  |0           |0            |0               |0                 |0          |0             |0           |0            |0             |0            |0              |0            |0                  |5      |0           |0    |0          |0                 |0                       |0                |0          |0           |0                 |0        |0           |0         |0          |0            |0         |0       |0         |0      |0           |0            |5               |0          |0       |0            |0          |0      |9          |0                        |0              |0                    |0                         |0                   |0                      |0                        |0      |0          |0         |0          |0           |0           |0      |0                 |0           |0            |0             |0               |0        |\n",
            "|2009|0         |0               |0             |0  |0           |0            |0               |0                 |0          |0             |0           |0            |8             |0            |0              |0            |0                  |1      |0           |0    |0          |0                 |0                       |0                |0          |0           |0                 |0        |0           |0         |0          |0            |0         |0       |0         |0      |0           |0            |2               |0          |0       |0            |0          |0      |6          |0                        |0              |0                    |0                         |0                   |0                      |0                        |0      |0          |0         |0          |0           |0           |0      |0                 |0           |0            |0             |0               |0        |\n",
            "|2008|0         |0               |0             |0  |0           |0            |0               |0                 |0          |0             |0           |0            |0             |0            |0              |0            |0                  |8      |0           |0    |0          |0                 |0                       |0                |0          |0           |0                 |0        |0           |0         |0          |0            |0         |0       |0         |0      |0           |0            |6               |0          |0       |0            |0          |0      |0          |0                        |0              |0                    |0                         |0                   |0                      |0                        |2      |1          |1         |0          |0           |0           |0      |0                 |0           |0            |0             |0               |0        |\n",
            "|2007|0         |0               |0             |0  |0           |0            |0               |0                 |0          |0             |0           |0            |0             |0            |0              |0            |0                  |9      |0           |0    |0          |0                 |0                       |0                |0          |0           |0                 |0        |0           |0         |0          |0            |0         |0       |0         |0      |0           |0            |8               |0          |0       |0            |0          |0      |0          |0                        |0              |0                    |0                         |0                   |0                      |0                        |0      |0          |0         |0          |0           |0           |0      |0                 |0           |0            |0             |0               |0        |\n",
            "|2006|0         |0               |0             |0  |0           |0            |0               |0                 |0          |0             |0           |0            |0             |0            |0              |0            |0                  |9      |0           |1    |0          |0                 |0                       |0                |0          |0           |0                 |0        |0           |0         |0          |0            |0         |0       |0         |0      |0           |0            |0               |0          |0       |0            |0          |0      |0          |0                        |0              |0                    |0                         |0                   |0                      |0                        |8      |0          |0         |0          |0           |0           |0      |0                 |0           |0            |0             |0               |0        |\n",
            "+----+----------+----------------+--------------+---+------------+-------------+----------------+------------------+-----------+--------------+------------+-------------+--------------+-------------+---------------+-------------+-------------------+-------+------------+-----+-----------+------------------+------------------------+-----------------+-----------+------------+------------------+---------+------------+----------+-----------+-------------+----------+--------+----------+-------+------------+-------------+----------------+-----------+--------+-------------+-----------+-------+-----------+-------------------------+---------------+---------------------+--------------------------+--------------------+-----------------------+-------------------------+-------+-----------+----------+-----------+------------+------------+-------+------------------+------------+-------------+--------------+----------------+---------+\n",
            "only showing top 20 rows\n",
            "\n"
          ]
        }
      ]
    },
    {
      "cell_type": "code",
      "source": [
        "# equipe x quantdade de vezes que cada piloto ganhou\n",
        "feature_store4 = df_F1.groupBy(\"team\")\\\n",
        ".pivot(\"winner_name\")\\\n",
        ".agg(count(\"*\"))\\\n",
        ".orderBy(\"team\", ascending=False)\\\n",
        ".fillna(0) #troca o null por 0"
      ],
      "metadata": {
        "id": "WeJ8x6fy9phM"
      },
      "execution_count": null,
      "outputs": []
    },
    {
      "cell_type": "code",
      "source": [
        "feature_store4.show(truncate=False)"
      ],
      "metadata": {
        "colab": {
          "base_uri": "https://localhost:8080/"
        },
        "id": "6rP1WMF293oO",
        "outputId": "909ae201-c78c-46ba-cb12-cb45ce01cffe"
      },
      "execution_count": null,
      "outputs": [
        {
          "output_type": "stream",
          "name": "stdout",
          "text": [
            "+--------------------------+-----------+----------+--------------+------------------+------------+-------------+------------+-------------+-----------+----------------+------------+---------------+--------------+----------+----------------+----------+---------------+-----------+-------------+------------+---------------+------------------+------------+------------+---------------+---------------+--------------+--------------+------------------+--------------------+-----------------+-----------+--------------+-----------------+---------------------+-------------+--------------+----------+------------+---------------+------------------+----------+------------+--------------------+---------------------+----------+-------------+-----------+---------+------------+-----------+------------+--------------+---------------+--------------+------------+-----------+---------------------+----------+----------+------------------+------------------+------------+--------------+------------+-----------+--------------+---------------+-------------------+-------------+-----------+--------------+-----------+-------------------+--------------+------------------+----------------+-------------+-------------+-------------+------------+-------------+----------+-----------+-------------+-------------+----------------+-----------------+--------------+------------+---------------+------------+------------+-------------+---------+-------------+------------+---------------+-----------+----------------+--------------+-------------+-----------+---------------+------------------+---------+----------------+------------+-------------+---------------+-----------+------------+---------------+------------------+------------------+\n",
            "|team                      |Alain Prost|Alan Jones|Alberto Ascari|Alessandro Nannini|Ayrton Senna|Bill Vukovich|Bob Sweikert|Bruce McLaren|Carlos Pace|Carlos Reutemann|Carlos Sainz|Charles Leclerc|Clay Regazzoni|Damon Hill|Daniel Ricciardo|Dan Gurney|David Coulthard|Denny Hulme|Didier Pironi|Eddie Irvine|Elio de Angelis|Emerson Fittipaldi|Esteban Ocon|Felipe Massa|Fernando Alonso|Francois Cevert|George Russell|Gerhard Berger|Giancarlo Baghetti|Giancarlo Fisichella|Gilles Villeneuve|Graham Hill|Gunnar Nilsson|Heikki Kovalainen|Heinz-Harald Frentzen|Innes Ireland|Jackie Stewart|Jacky Ickx|Jack Brabham|Jacques Laffite|Jacques Villeneuve|James Hunt|Jarno Trulli|Jean-Pierre Beltoise|Jean-Pierre Jabouille|Jean Alesi|Jenson Button|Jimmy Bryan|Jim Clark|Jim Rathmann|Jochen Mass|Jochen Rindt|Jody Scheckter|Johnnie Parsons|Johnny Herbert|John Surtees|John Watson|Jose Froilan Gonzalez|Jo Bonnier|Jo Siffert|Juan Manuel Fangio|Juan Pablo Montoya|Keke Rosberg|Kimi Raikkonen|Lando Norris|Lee Wallard|Lewis Hamilton|Lorenzo Bandini|Ludovico Scarfiotti|Luigi Fagioli|Luigi Musso|Mario Andretti|Mark Webber|Maurice Trintignant|Max Verstappen|Michael Schumacher|Michele Alboreto|Mika Hakkinen|Mike Hawthorn|Nelson Piquet|Nico Rosberg|Nigel Mansell|Niki Lauda|Nino Farina|Olivier Panis|Oscar Piastri|Pastor Maldonado|Patrick Depailler|Patrick Tambay|Pat Flaherty|Pedro Rodriguez|Peter Gethin|Peter Revson|Peter Collins|Phil Hill|Piero Taruffi|Pierre Gasly|Ralf Schumacher|Rene Arnoux|Riccardo Patrese|Richie Ginther|Robert Kubica|Rodger Ward|Ronnie Peterson|Rubens Barrichello|Sam Hanks|Sebastian Vettel|Sergio Perez|Stirling Moss|Thierry Boutsen|Tony Brooks|Troy Ruttman|Valtteri Bottas|Vittorio Brambilla|Wolfgang von Trips|\n",
            "+--------------------------+-----------+----------+--------------+------------------+------------+-------------+------------+-------------+-----------+----------------+------------+---------------+--------------+----------+----------------+----------+---------------+-----------+-------------+------------+---------------+------------------+------------+------------+---------------+---------------+--------------+--------------+------------------+--------------------+-----------------+-----------+--------------+-----------------+---------------------+-------------+--------------+----------+------------+---------------+------------------+----------+------------+--------------------+---------------------+----------+-------------+-----------+---------+------------+-----------+------------+--------------+---------------+--------------+------------+-----------+---------------------+----------+----------+------------------+------------------+------------+--------------+------------+-----------+--------------+---------------+-------------------+-------------+-----------+--------------+-----------+-------------------+--------------+------------------+----------------+-------------+-------------+-------------+------------+-------------+----------+-----------+-------------+-------------+----------------+-----------------+--------------+------------+---------------+------------+------------+-------------+---------+-------------+------------+---------------+-----------+----------------+--------------+-------------+-----------+---------------+------------------+---------+----------------+------------+-------------+---------------+-----------+------------+---------------+------------------+------------------+\n",
            "|Wolf Ford                 |0          |0         |0             |0                 |0           |0            |0           |0            |0          |0               |0           |0              |0             |0         |0               |0         |0              |0          |0            |0           |0              |0                 |0           |0           |0              |0              |0             |0             |0                 |0                   |0                |0          |0             |0                |0                    |0            |0             |0         |0           |0              |0                 |0         |0           |0                   |0                    |0         |0            |0          |0        |0           |0          |0           |3             |0              |0             |0           |0          |0                    |0         |0         |0                 |0                 |0           |0             |0           |0          |0             |0              |0                  |0            |0          |0             |0          |0                  |0             |0                 |0               |0            |0            |0            |0           |0            |0         |0          |0            |0            |0               |0                |0             |0           |0              |0           |0           |0            |0        |0            |0           |0              |0          |0               |0             |0            |0          |0              |0                 |0        |0               |0           |0            |0              |0          |0           |0              |0                 |0                 |\n",
            "|Williams Renault          |7          |0         |0             |0                 |0           |0            |0           |0            |0          |0               |0           |0              |0             |21        |0               |0         |1              |0          |0            |0           |0              |0                 |0           |0           |0              |0              |0             |0             |0                 |0                   |0                |0          |0             |0                |1                    |0            |0             |0         |0           |0              |11                |0         |0           |0                   |0                    |0         |0            |0          |0        |0           |0          |0           |0             |0              |0             |0           |0          |0                    |0         |0         |0                 |0                 |0           |0             |0           |0          |0             |0              |0                  |0            |0          |0             |0          |0                  |0             |0                 |0               |0            |0            |0            |0           |15           |0         |0          |0            |0            |1               |0                |0             |0           |0              |0           |0           |0            |0        |0            |0           |0              |0          |4               |0             |0            |0          |0              |0                 |0        |0               |0           |0            |3              |0          |0           |0              |0                 |0                 |\n",
            "|Williams Honda            |0          |0         |0             |0                 |0           |0            |0           |0            |0          |0               |0           |0              |0             |0         |0               |0         |0              |0          |0            |0           |0              |0                 |0           |0           |0              |0              |0             |0             |0                 |0                   |0                |0          |0             |0                |0                    |0            |0             |0         |0           |0              |0                 |0         |0           |0                   |0                    |0         |0            |0          |0        |0           |0          |0           |0             |0              |0             |0           |0          |0                    |0         |0         |0                 |0                 |3           |0             |0           |0          |0             |0              |0                  |0            |0          |0             |0          |0                  |0             |0                 |0               |0            |0            |7            |0           |13           |0         |0          |0            |0            |0               |0                |0             |0           |0              |0           |0           |0            |0        |0            |0           |0              |0          |0               |0             |0            |0          |0              |0                 |0        |0               |0           |0            |0              |0          |0           |0              |0                 |0                 |\n",
            "|Williams Ford             |0          |11        |0             |0                 |0           |0            |0           |0            |0          |3               |0           |0              |1             |0         |0               |0         |0              |0          |0            |0           |0              |0                 |0           |0           |0              |0              |0             |0             |0                 |0                   |0                |0          |0             |0                |0                    |0            |0             |0         |0           |0              |0                 |0         |0           |0                   |0                    |0         |0            |0          |0        |0           |0          |0           |0             |0              |0             |0           |0          |0                    |0         |0         |0                 |0                 |2           |0             |0           |0          |0             |0              |0                  |0            |0          |0             |0          |0                  |0             |0                 |0               |0            |0            |0            |0           |0            |0         |0          |0            |0            |0               |0                |0             |0           |0              |0           |0           |0            |0        |0            |0           |0              |0          |0               |0             |0            |0          |0              |0                 |0        |0               |0           |0            |0              |0          |0           |0              |0                 |0                 |\n",
            "|Williams BMW              |0          |0         |0             |0                 |0           |0            |0           |0            |0          |0               |0           |0              |0             |0         |0               |0         |0              |0          |0            |0           |0              |0                 |0           |0           |0              |0              |0             |0             |0                 |0                   |0                |0          |0             |0                |0                    |0            |0             |0         |0           |0              |0                 |0         |0           |0                   |0                    |0         |0            |0          |0        |0           |0          |0           |0             |0              |0             |0           |0          |0                    |0         |0         |0                 |4                 |0           |0             |0           |0          |0             |0              |0                  |0            |0          |0             |0          |0                  |0             |0                 |0               |0            |0            |0            |0           |0            |0         |0          |0            |0            |0               |0                |0             |0           |0              |0           |0           |0            |0        |0            |0           |6              |0          |0               |0             |0            |0          |0              |0                 |0        |0               |0           |0            |0              |0          |0           |0              |0                 |0                 |\n",
            "|Watson Offenhauser        |0          |0         |0             |0                 |0           |0            |0           |0            |0          |0               |0           |0              |0             |0         |0               |0         |0              |0          |0            |0           |0              |0                 |0           |0           |0              |0              |0             |0             |0                 |0                   |0                |0          |0             |0                |0                    |0            |0             |0         |0           |0              |0                 |0         |0           |0                   |0                    |0         |0            |0          |0        |1           |0          |0           |0             |0              |0             |0           |0          |0                    |0         |0         |0                 |0                 |0           |0             |0           |0          |0             |0              |0                  |0            |0          |0             |0          |0                  |0             |0                 |0               |0            |0            |0            |0           |0            |0         |0          |0            |0            |0               |0                |0             |1           |0              |0           |0           |0            |0        |0            |0           |0              |0          |0               |0             |0            |1          |0              |0                 |0        |0               |0           |0            |0              |0          |0           |0              |0                 |0                 |\n",
            "|Vanwall                   |0          |0         |0             |0                 |0           |0            |0           |0            |0          |0               |0           |0              |0             |0         |0               |0         |0              |0          |0            |0           |0              |0                 |0           |0           |0              |0              |0             |0             |0                 |0                   |0                |0          |0             |0                |0                    |0            |0             |0         |0           |0              |0                 |0         |0           |0                   |0                    |0         |0            |0          |0        |0           |0          |0           |0             |0              |0             |0           |0          |0                    |0         |0         |0                 |0                 |0           |0             |0           |0          |0             |0              |0                  |0            |0          |0             |0          |0                  |0             |0                 |0               |0            |0            |0            |0           |0            |0         |0          |0            |0            |0               |0                |0             |0           |0              |0           |0           |0            |0        |0            |0           |0              |0          |0               |0             |0            |0          |0              |0                 |0        |0               |0           |6            |0              |4          |0           |0              |0                 |0                 |\n",
            "|Tyrrell Ford              |0          |0         |0             |0                 |0           |0            |0           |0            |0          |0               |0           |0              |0             |0         |0               |0         |0              |0          |0            |0           |0              |0                 |0           |0           |0              |1              |0             |0             |0                 |0                   |0                |0          |0             |0                |0                    |0            |15            |0         |0           |0              |0                 |0         |0           |0                   |0                    |0         |0            |0          |0        |0           |0          |0           |4             |0              |0             |0           |0          |0                    |0         |0         |0                 |0                 |0           |0             |0           |0          |0             |0              |0                  |0            |0          |0             |0          |0                  |0             |0                 |2               |0            |0            |0            |0           |0            |0         |0          |0            |0            |0               |1                |0             |0           |0              |0           |0           |0            |0        |0            |0           |0              |0          |0               |0             |0            |0          |0              |0                 |0        |0               |0           |0            |0              |0          |0           |0              |0                 |0                 |\n",
            "|Stewart Ford              |0          |0         |0             |0                 |0           |0            |0           |0            |0          |0               |0           |0              |0             |0         |0               |0         |0              |0          |0            |0           |0              |0                 |0           |0           |0              |0              |0             |0             |0                 |0                   |0                |0          |0             |0                |0                    |0            |0             |0         |0           |0              |0                 |0         |0           |0                   |0                    |0         |0            |0          |0        |0           |0          |0           |0             |0              |1             |0           |0          |0                    |0         |0         |0                 |0                 |0           |0             |0           |0          |0             |0              |0                  |0            |0          |0             |0          |0                  |0             |0                 |0               |0            |0            |0            |0           |0            |0         |0          |0            |0            |0               |0                |0             |0           |0              |0           |0           |0            |0        |0            |0           |0              |0          |0               |0             |0            |0          |0              |0                 |0        |0               |0           |0            |0              |0          |0           |0              |0                 |0                 |\n",
            "|Shadow Ford               |0          |1         |0             |0                 |0           |0            |0           |0            |0          |0               |0           |0              |0             |0         |0               |0         |0              |0          |0            |0           |0              |0                 |0           |0           |0              |0              |0             |0             |0                 |0                   |0                |0          |0             |0                |0                    |0            |0             |0         |0           |0              |0                 |0         |0           |0                   |0                    |0         |0            |0          |0        |0           |0          |0           |0             |0              |0             |0           |0          |0                    |0         |0         |0                 |0                 |0           |0             |0           |0          |0             |0              |0                  |0            |0          |0             |0          |0                  |0             |0                 |0               |0            |0            |0            |0           |0            |0         |0          |0            |0            |0               |0                |0             |0           |0              |0           |0           |0            |0        |0            |0           |0              |0          |0               |0             |0            |0          |0              |0                 |0        |0               |0           |0            |0              |0          |0           |0              |0                 |0                 |\n",
            "|Sauber BMW                |0          |0         |0             |0                 |0           |0            |0           |0            |0          |0               |0           |0              |0             |0         |0               |0         |0              |0          |0            |0           |0              |0                 |0           |0           |0              |0              |0             |0             |0                 |0                   |0                |0          |0             |0                |0                    |0            |0             |0         |0           |0              |0                 |0         |0           |0                   |0                    |0         |0            |0          |0        |0           |0          |0           |0             |0              |0             |0           |0          |0                    |0         |0         |0                 |0                 |0           |0             |0           |0          |0             |0              |0                  |0            |0          |0             |0          |0                  |0             |0                 |0               |0            |0            |0            |0           |0            |0         |0          |0            |0            |0               |0                |0             |0           |0              |0           |0           |0            |0        |0            |0           |0              |0          |0               |0             |1            |0          |0              |0                 |0        |0               |0           |0            |0              |0          |0           |0              |0                 |0                 |\n",
            "|STR Ferrari               |0          |0         |0             |0                 |0           |0            |0           |0            |0          |0               |0           |0              |0             |0         |0               |0         |0              |0          |0            |0           |0              |0                 |0           |0           |0              |0              |0             |0             |0                 |0                   |0                |0          |0             |0                |0                    |0            |0             |0         |0           |0              |0                 |0         |0           |0                   |0                    |0         |0            |0          |0        |0           |0          |0           |0             |0              |0             |0           |0          |0                    |0         |0         |0                 |0                 |0           |0             |0           |0          |0             |0              |0                  |0            |0          |0             |0          |0                  |0             |0                 |0               |0            |0            |0            |0           |0            |0         |0          |0            |0            |0               |0                |0             |0           |0              |0           |0           |0            |0        |0            |0           |0              |0          |0               |0             |0            |0          |0              |0                 |0        |1               |0           |0            |0              |0          |0           |0              |0                 |0                 |\n",
            "|Renault                   |9          |0         |0             |0                 |0           |0            |0           |0            |0          |0               |0           |0              |0             |0         |0               |0         |0              |0          |0            |0           |0              |0                 |0           |0           |17             |0              |0             |0             |0                 |2                   |0                |0          |0             |0                |0                    |0            |0             |0         |0           |0              |0                 |0         |1           |0                   |2                    |0         |0            |0          |0        |0           |0          |0           |0             |0              |0             |0           |0          |0                    |0         |0         |0                 |0                 |0           |0             |0           |0          |0             |0              |0                  |0            |0          |0             |0          |0                  |0             |0                 |0               |0            |0            |0            |0           |0            |0         |0          |0            |0            |0               |0                |0             |0           |0              |0           |0           |0            |0        |0            |0           |0              |4          |0               |0             |0            |0          |0              |0                 |0        |0               |0           |0            |0              |0          |0           |0              |0                 |0                 |\n",
            "|Red Bull Racing TAG Heuer |0          |0         |0             |0                 |0           |0            |0           |0            |0          |0               |0           |0              |0             |0         |4               |0         |0              |0          |0            |0           |0              |0                 |0           |0           |0              |0              |0             |0             |0                 |0                   |0                |0          |0             |0                |0                    |0            |0             |0         |0           |0              |0                 |0         |0           |0                   |0                    |0         |0            |0          |0        |0           |0          |0           |0             |0              |0             |0           |0          |0                    |0         |0         |0                 |0                 |0           |0             |0           |0          |0             |0              |0                  |0            |0          |0             |0          |0                  |5             |0                 |0               |0            |0            |0            |0           |0            |0         |0          |0            |0            |0               |0                |0             |0           |0              |0           |0           |0            |0        |0            |0           |0              |0          |0               |0             |0            |0          |0              |0                 |0        |0               |0           |0            |0              |0          |0           |0              |0                 |0                 |\n",
            "|Red Bull Racing Renault   |0          |0         |0             |0                 |0           |0            |0           |0            |0          |0               |0           |0              |0             |0         |3               |0         |0              |0          |0            |0           |0              |0                 |0           |0           |0              |0              |0             |0             |0                 |0                   |0                |0          |0             |0                |0                    |0            |0             |0         |0           |0              |0                 |0         |0           |0                   |0                    |0         |0            |0          |0        |0           |0          |0           |0             |0              |0             |0           |0          |0                    |0         |0         |0                 |0                 |0           |0             |0           |0          |0             |0              |0                  |0            |0          |0             |3          |0                  |0             |0                 |0               |0            |0            |0            |0           |0            |0         |0          |0            |0            |0               |0                |0             |0           |0              |0           |0           |0            |0        |0            |0           |0              |0          |0               |0             |0            |0          |0              |0                 |0        |29              |0           |0            |0              |0          |0           |0              |0                 |0                 |\n",
            "|Red Bull Racing RBPT      |0          |0         |0             |0                 |0           |0            |0           |0            |0          |0               |0           |0              |0             |0         |0               |0         |0              |0          |0            |0           |0              |0                 |0           |0           |0              |0              |0             |0             |0                 |0                   |0                |0          |0             |0                |0                    |0            |0             |0         |0           |0              |0                 |0         |0           |0                   |0                    |0         |0            |0          |0        |0           |0          |0           |0             |0              |0             |0           |0          |0                    |0         |0         |0                 |0                 |0           |0             |0           |0          |0             |0              |0                  |0            |0          |0             |0          |0                  |15            |0                 |0               |0            |0            |0            |0           |0            |0         |0          |0            |0            |0               |0                |0             |0           |0              |0           |0           |0            |0        |0            |0           |0              |0          |0               |0             |0            |0          |0              |0                 |0        |0               |2           |0            |0              |0          |0           |0              |0                 |0                 |\n",
            "|Red Bull Racing Honda RBPT|0          |0         |0             |0                 |0           |0            |0           |0            |0          |0               |0           |0              |0             |0         |0               |0         |0              |0          |0            |0           |0              |0                 |0           |0           |0              |0              |0             |0             |0                 |0                   |0                |0          |0             |0                |0                    |0            |0             |0         |0           |0              |0                 |0         |0           |0                   |0                    |0         |0            |0          |0        |0           |0          |0           |0             |0              |0             |0           |0          |0                    |0         |0         |0                 |0                 |0           |0             |0           |0          |0             |0              |0                  |0            |0          |0             |0          |0                  |28            |0                 |0               |0            |0            |0            |0           |0            |0         |0          |0            |0            |0               |0                |0             |0           |0              |0           |0           |0            |0        |0            |0           |0              |0          |0               |0             |0            |0          |0              |0                 |0        |0               |2           |0            |0              |0          |0           |0              |0                 |0                 |\n",
            "|Red Bull Racing Honda     |0          |0         |0             |0                 |0           |0            |0           |0            |0          |0               |0           |0              |0             |0         |0               |0         |0              |0          |0            |0           |0              |0                 |0           |0           |0              |0              |0             |0             |0                 |0                   |0                |0          |0             |0                |0                    |0            |0             |0         |0           |0              |0                 |0         |0           |0                   |0                    |0         |0            |0          |0        |0           |0          |0           |0             |0              |0             |0           |0          |0                    |0         |0         |0                 |0                 |0           |0             |0           |0          |0             |0              |0                  |0            |0          |0             |0          |0                  |15            |0                 |0               |0            |0            |0            |0           |0            |0         |0          |0            |0            |0               |0                |0             |0           |0              |0           |0           |0            |0        |0            |0           |0              |0          |0               |0             |0            |0          |0              |0                 |0        |0               |1           |0            |0              |0          |0           |0              |0                 |0                 |\n",
            "|Red Bull Racing           |0          |0         |0             |0                 |0           |0            |0           |0            |0          |0               |0           |0              |0             |0         |0               |0         |0              |0          |0            |0           |0              |0                 |0           |0           |0              |0              |0             |0             |0                 |0                   |0                |0          |0             |0                |0                    |0            |0             |0         |0           |0              |0                 |0         |0           |0                   |0                    |0         |0            |0          |0        |0           |0          |0           |0             |0              |0             |0           |0          |0                    |0         |0         |0                 |0                 |0           |0             |0           |0          |0             |0              |0                  |0            |0          |0             |0          |0                  |2             |0                 |0               |0            |0            |0            |0           |0            |0         |0          |0            |0            |0               |0                |0             |0           |0              |0           |0           |0            |0        |0            |0           |0              |0          |0               |0             |0            |0          |0              |0                 |0        |0               |0           |0            |0              |0          |0           |0              |0                 |0                 |\n",
            "|Racing Point BWT Mercedes |0          |0         |0             |0                 |0           |0            |0           |0            |0          |0               |0           |0              |0             |0         |0               |0         |0              |0          |0            |0           |0              |0                 |0           |0           |0              |0              |0             |0             |0                 |0                   |0                |0          |0             |0                |0                    |0            |0             |0         |0           |0              |0                 |0         |0           |0                   |0                    |0         |0            |0          |0        |0           |0          |0           |0             |0              |0             |0           |0          |0                    |0         |0         |0                 |0                 |0           |0             |0           |0          |0             |0              |0                  |0            |0          |0             |0          |0                  |0             |0                 |0               |0            |0            |0            |0           |0            |0         |0          |0            |0            |0               |0                |0             |0           |0              |0           |0           |0            |0        |0            |0           |0              |0          |0               |0             |0            |0          |0              |0                 |0        |0               |1           |0            |0              |0          |0           |0              |0                 |0                 |\n",
            "+--------------------------+-----------+----------+--------------+------------------+------------+-------------+------------+-------------+-----------+----------------+------------+---------------+--------------+----------+----------------+----------+---------------+-----------+-------------+------------+---------------+------------------+------------+------------+---------------+---------------+--------------+--------------+------------------+--------------------+-----------------+-----------+--------------+-----------------+---------------------+-------------+--------------+----------+------------+---------------+------------------+----------+------------+--------------------+---------------------+----------+-------------+-----------+---------+------------+-----------+------------+--------------+---------------+--------------+------------+-----------+---------------------+----------+----------+------------------+------------------+------------+--------------+------------+-----------+--------------+---------------+-------------------+-------------+-----------+--------------+-----------+-------------------+--------------+------------------+----------------+-------------+-------------+-------------+------------+-------------+----------+-----------+-------------+-------------+----------------+-----------------+--------------+------------+---------------+------------+------------+-------------+---------+-------------+------------+---------------+-----------+----------------+--------------+-------------+-----------+---------------+------------------+---------+----------------+------------+-------------+---------------+-----------+------------+---------------+------------------+------------------+\n",
            "only showing top 20 rows\n",
            "\n"
          ]
        }
      ]
    }
  ]
}